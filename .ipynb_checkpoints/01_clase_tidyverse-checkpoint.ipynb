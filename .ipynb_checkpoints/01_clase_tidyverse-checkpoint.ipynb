{
 "cells": [
  {
   "cell_type": "markdown",
   "metadata": {},
   "source": [
    "# Introducción a Tidyverse\n",
    "\n",
    "Este Jupyter Notebook será la intro al paquete tidyverse. Usaremos un dataset sencillo y nos centraremos en las funciones más importantes. Lo primero es instalar el paquete:"
   ]
  },
  {
   "cell_type": "code",
   "execution_count": 2,
   "metadata": {},
   "outputs": [
    {
     "name": "stderr",
     "output_type": "stream",
     "text": [
      "Installing packages into ‘/usr/local/lib/R/4.1/site-library’\n",
      "(as ‘lib’ is unspecified)\n",
      "\n"
     ]
    }
   ],
   "source": [
    "install.packages(c(\"tidyverse\",\"palmerpenguins\"))\n"
   ]
  },
  {
   "cell_type": "markdown",
   "metadata": {},
   "source": [
    "La instalación se realiza solo una vez. Con la función `library` la llamamos:"
   ]
  },
  {
   "cell_type": "code",
   "execution_count": 3,
   "metadata": {},
   "outputs": [
    {
     "name": "stderr",
     "output_type": "stream",
     "text": [
      "── \u001b[1mAttaching packages\u001b[22m ─────────────────────────────────────── tidyverse 1.3.1 ──\n",
      "\n",
      "\u001b[32m✔\u001b[39m \u001b[34mggplot2\u001b[39m 3.3.5     \u001b[32m✔\u001b[39m \u001b[34mpurrr  \u001b[39m 0.3.4\n",
      "\u001b[32m✔\u001b[39m \u001b[34mtibble \u001b[39m 3.1.6     \u001b[32m✔\u001b[39m \u001b[34mdplyr  \u001b[39m 1.0.8\n",
      "\u001b[32m✔\u001b[39m \u001b[34mtidyr  \u001b[39m 1.2.0     \u001b[32m✔\u001b[39m \u001b[34mstringr\u001b[39m 1.4.0\n",
      "\u001b[32m✔\u001b[39m \u001b[34mreadr  \u001b[39m 2.1.2     \u001b[32m✔\u001b[39m \u001b[34mforcats\u001b[39m 0.5.1\n",
      "\n",
      "── \u001b[1mConflicts\u001b[22m ────────────────────────────────────────── tidyverse_conflicts() ──\n",
      "\u001b[31m✖\u001b[39m \u001b[34mdplyr\u001b[39m::\u001b[32mfilter()\u001b[39m masks \u001b[34mstats\u001b[39m::filter()\n",
      "\u001b[31m✖\u001b[39m \u001b[34mdplyr\u001b[39m::\u001b[32mlag()\u001b[39m    masks \u001b[34mstats\u001b[39m::lag()\n",
      "\n"
     ]
    }
   ],
   "source": [
    "library(tidyverse) # cargamos las librerias\n",
    "library(palmerpenguins)"
   ]
  },
  {
   "cell_type": "markdown",
   "metadata": {},
   "source": [
    "La función `data` nos deja cargar datasets de los paquetes, en este caso el dataset `penguins`"
   ]
  },
  {
   "cell_type": "code",
   "execution_count": 20,
   "metadata": {},
   "outputs": [],
   "source": [
    "data(package = 'palmerpenguins')"
   ]
  },
  {
   "cell_type": "markdown",
   "metadata": {},
   "source": [
    "\n",
    "## 1) Echar un vistazo\n",
    "\n",
    "Lo primero antes de trabajar con un dataset es darle un primer vistazo. Funciones útiles para esto son `glimpse`, `head`, y `tail`"
   ]
  },
  {
   "cell_type": "code",
   "execution_count": 21,
   "metadata": {},
   "outputs": [
    {
     "name": "stdout",
     "output_type": "stream",
     "text": [
      "Rows: 344\n",
      "Columns: 8\n",
      "$ species           \u001b[3m\u001b[90m<fct>\u001b[39m\u001b[23m Adelie, Adelie, Adelie, Adelie, Adelie, Adelie, Adel…\n",
      "$ island            \u001b[3m\u001b[90m<fct>\u001b[39m\u001b[23m Torgersen, Torgersen, Torgersen, Torgersen, Torgerse…\n",
      "$ bill_length_mm    \u001b[3m\u001b[90m<dbl>\u001b[39m\u001b[23m 39.1, 39.5, 40.3, NA, 36.7, 39.3, 38.9, 39.2, 34.1, …\n",
      "$ bill_depth_mm     \u001b[3m\u001b[90m<dbl>\u001b[39m\u001b[23m 18.7, 17.4, 18.0, NA, 19.3, 20.6, 17.8, 19.6, 18.1, …\n",
      "$ flipper_length_mm \u001b[3m\u001b[90m<int>\u001b[39m\u001b[23m 181, 186, 195, NA, 193, 190, 181, 195, 193, 190, 186…\n",
      "$ body_mass_g       \u001b[3m\u001b[90m<int>\u001b[39m\u001b[23m 3750, 3800, 3250, NA, 3450, 3650, 3625, 4675, 3475, …\n",
      "$ sex               \u001b[3m\u001b[90m<fct>\u001b[39m\u001b[23m male, female, female, NA, female, male, female, male…\n",
      "$ year              \u001b[3m\u001b[90m<int>\u001b[39m\u001b[23m 2007, 2007, 2007, 2007, 2007, 2007, 2007, 2007, 2007…\n"
     ]
    }
   ],
   "source": [
    "glimpse(penguins)"
   ]
  },
  {
   "cell_type": "markdown",
   "metadata": {},
   "source": [
    "`glimpse` nos da información sobre el tipo de datos:\n",
    "\n",
    "* logical vectors <lgl> contiene TRUE o FALSE\n",
    "* integer vectors <int> contiene enteros\n",
    "* double vectors <dbl> contiene números reales\n",
    "* character vector <chr> contiene strings (\"\") \n",
    "* factors <fct>, representan variables categóricas determinadas (llamadas levels)"
   ]
  },
  {
   "cell_type": "code",
   "execution_count": 22,
   "metadata": {},
   "outputs": [
    {
     "data": {
      "text/html": [
       "<table class=\"dataframe\">\n",
       "<caption>A tibble: 6 × 8</caption>\n",
       "<thead>\n",
       "\t<tr><th scope=col>species</th><th scope=col>island</th><th scope=col>bill_length_mm</th><th scope=col>bill_depth_mm</th><th scope=col>flipper_length_mm</th><th scope=col>body_mass_g</th><th scope=col>sex</th><th scope=col>year</th></tr>\n",
       "\t<tr><th scope=col>&lt;fct&gt;</th><th scope=col>&lt;fct&gt;</th><th scope=col>&lt;dbl&gt;</th><th scope=col>&lt;dbl&gt;</th><th scope=col>&lt;int&gt;</th><th scope=col>&lt;int&gt;</th><th scope=col>&lt;fct&gt;</th><th scope=col>&lt;int&gt;</th></tr>\n",
       "</thead>\n",
       "<tbody>\n",
       "\t<tr><td>Adelie</td><td>Torgersen</td><td>39.1</td><td>18.7</td><td>181</td><td>3750</td><td>male  </td><td>2007</td></tr>\n",
       "\t<tr><td>Adelie</td><td>Torgersen</td><td>39.5</td><td>17.4</td><td>186</td><td>3800</td><td>female</td><td>2007</td></tr>\n",
       "\t<tr><td>Adelie</td><td>Torgersen</td><td>40.3</td><td>18.0</td><td>195</td><td>3250</td><td>female</td><td>2007</td></tr>\n",
       "\t<tr><td>Adelie</td><td>Torgersen</td><td>  NA</td><td>  NA</td><td> NA</td><td>  NA</td><td>NA    </td><td>2007</td></tr>\n",
       "\t<tr><td>Adelie</td><td>Torgersen</td><td>36.7</td><td>19.3</td><td>193</td><td>3450</td><td>female</td><td>2007</td></tr>\n",
       "\t<tr><td>Adelie</td><td>Torgersen</td><td>39.3</td><td>20.6</td><td>190</td><td>3650</td><td>male  </td><td>2007</td></tr>\n",
       "</tbody>\n",
       "</table>\n"
      ],
      "text/latex": [
       "A tibble: 6 × 8\n",
       "\\begin{tabular}{llllllll}\n",
       " species & island & bill\\_length\\_mm & bill\\_depth\\_mm & flipper\\_length\\_mm & body\\_mass\\_g & sex & year\\\\\n",
       " <fct> & <fct> & <dbl> & <dbl> & <int> & <int> & <fct> & <int>\\\\\n",
       "\\hline\n",
       "\t Adelie & Torgersen & 39.1 & 18.7 & 181 & 3750 & male   & 2007\\\\\n",
       "\t Adelie & Torgersen & 39.5 & 17.4 & 186 & 3800 & female & 2007\\\\\n",
       "\t Adelie & Torgersen & 40.3 & 18.0 & 195 & 3250 & female & 2007\\\\\n",
       "\t Adelie & Torgersen &   NA &   NA &  NA &   NA & NA     & 2007\\\\\n",
       "\t Adelie & Torgersen & 36.7 & 19.3 & 193 & 3450 & female & 2007\\\\\n",
       "\t Adelie & Torgersen & 39.3 & 20.6 & 190 & 3650 & male   & 2007\\\\\n",
       "\\end{tabular}\n"
      ],
      "text/markdown": [
       "\n",
       "A tibble: 6 × 8\n",
       "\n",
       "| species &lt;fct&gt; | island &lt;fct&gt; | bill_length_mm &lt;dbl&gt; | bill_depth_mm &lt;dbl&gt; | flipper_length_mm &lt;int&gt; | body_mass_g &lt;int&gt; | sex &lt;fct&gt; | year &lt;int&gt; |\n",
       "|---|---|---|---|---|---|---|---|\n",
       "| Adelie | Torgersen | 39.1 | 18.7 | 181 | 3750 | male   | 2007 |\n",
       "| Adelie | Torgersen | 39.5 | 17.4 | 186 | 3800 | female | 2007 |\n",
       "| Adelie | Torgersen | 40.3 | 18.0 | 195 | 3250 | female | 2007 |\n",
       "| Adelie | Torgersen |   NA |   NA |  NA |   NA | NA     | 2007 |\n",
       "| Adelie | Torgersen | 36.7 | 19.3 | 193 | 3450 | female | 2007 |\n",
       "| Adelie | Torgersen | 39.3 | 20.6 | 190 | 3650 | male   | 2007 |\n",
       "\n"
      ],
      "text/plain": [
       "  species island    bill_length_mm bill_depth_mm flipper_length_mm body_mass_g\n",
       "1 Adelie  Torgersen 39.1           18.7          181               3750       \n",
       "2 Adelie  Torgersen 39.5           17.4          186               3800       \n",
       "3 Adelie  Torgersen 40.3           18.0          195               3250       \n",
       "4 Adelie  Torgersen   NA             NA           NA                 NA       \n",
       "5 Adelie  Torgersen 36.7           19.3          193               3450       \n",
       "6 Adelie  Torgersen 39.3           20.6          190               3650       \n",
       "  sex    year\n",
       "1 male   2007\n",
       "2 female 2007\n",
       "3 female 2007\n",
       "4 NA     2007\n",
       "5 female 2007\n",
       "6 male   2007"
      ]
     },
     "metadata": {},
     "output_type": "display_data"
    }
   ],
   "source": [
    "head(penguins)"
   ]
  },
  {
   "cell_type": "markdown",
   "metadata": {},
   "source": [
    "`head` nos entrega las primeras filas y `tail` las últimas"
   ]
  },
  {
   "cell_type": "markdown",
   "metadata": {},
   "source": [
    "`head`, y `tail` son funciones que tienen argumentos. En este caso `n = número de filas por mostrar`"
   ]
  },
  {
   "cell_type": "code",
   "execution_count": 23,
   "metadata": {},
   "outputs": [
    {
     "data": {
      "text/html": [
       "<table class=\"dataframe\">\n",
       "<caption>A tibble: 3 × 8</caption>\n",
       "<thead>\n",
       "\t<tr><th scope=col>species</th><th scope=col>island</th><th scope=col>bill_length_mm</th><th scope=col>bill_depth_mm</th><th scope=col>flipper_length_mm</th><th scope=col>body_mass_g</th><th scope=col>sex</th><th scope=col>year</th></tr>\n",
       "\t<tr><th scope=col>&lt;fct&gt;</th><th scope=col>&lt;fct&gt;</th><th scope=col>&lt;dbl&gt;</th><th scope=col>&lt;dbl&gt;</th><th scope=col>&lt;int&gt;</th><th scope=col>&lt;int&gt;</th><th scope=col>&lt;fct&gt;</th><th scope=col>&lt;int&gt;</th></tr>\n",
       "</thead>\n",
       "<tbody>\n",
       "\t<tr><td>Chinstrap</td><td>Dream</td><td>49.6</td><td>18.2</td><td>193</td><td>3775</td><td>male  </td><td>2009</td></tr>\n",
       "\t<tr><td>Chinstrap</td><td>Dream</td><td>50.8</td><td>19.0</td><td>210</td><td>4100</td><td>male  </td><td>2009</td></tr>\n",
       "\t<tr><td>Chinstrap</td><td>Dream</td><td>50.2</td><td>18.7</td><td>198</td><td>3775</td><td>female</td><td>2009</td></tr>\n",
       "</tbody>\n",
       "</table>\n"
      ],
      "text/latex": [
       "A tibble: 3 × 8\n",
       "\\begin{tabular}{llllllll}\n",
       " species & island & bill\\_length\\_mm & bill\\_depth\\_mm & flipper\\_length\\_mm & body\\_mass\\_g & sex & year\\\\\n",
       " <fct> & <fct> & <dbl> & <dbl> & <int> & <int> & <fct> & <int>\\\\\n",
       "\\hline\n",
       "\t Chinstrap & Dream & 49.6 & 18.2 & 193 & 3775 & male   & 2009\\\\\n",
       "\t Chinstrap & Dream & 50.8 & 19.0 & 210 & 4100 & male   & 2009\\\\\n",
       "\t Chinstrap & Dream & 50.2 & 18.7 & 198 & 3775 & female & 2009\\\\\n",
       "\\end{tabular}\n"
      ],
      "text/markdown": [
       "\n",
       "A tibble: 3 × 8\n",
       "\n",
       "| species &lt;fct&gt; | island &lt;fct&gt; | bill_length_mm &lt;dbl&gt; | bill_depth_mm &lt;dbl&gt; | flipper_length_mm &lt;int&gt; | body_mass_g &lt;int&gt; | sex &lt;fct&gt; | year &lt;int&gt; |\n",
       "|---|---|---|---|---|---|---|---|\n",
       "| Chinstrap | Dream | 49.6 | 18.2 | 193 | 3775 | male   | 2009 |\n",
       "| Chinstrap | Dream | 50.8 | 19.0 | 210 | 4100 | male   | 2009 |\n",
       "| Chinstrap | Dream | 50.2 | 18.7 | 198 | 3775 | female | 2009 |\n",
       "\n"
      ],
      "text/plain": [
       "  species   island bill_length_mm bill_depth_mm flipper_length_mm body_mass_g\n",
       "1 Chinstrap Dream  49.6           18.2          193               3775       \n",
       "2 Chinstrap Dream  50.8           19.0          210               4100       \n",
       "3 Chinstrap Dream  50.2           18.7          198               3775       \n",
       "  sex    year\n",
       "1 male   2009\n",
       "2 male   2009\n",
       "3 female 2009"
      ]
     },
     "metadata": {},
     "output_type": "display_data"
    }
   ],
   "source": [
    "tail(penguins, n = 3)"
   ]
  },
  {
   "cell_type": "markdown",
   "metadata": {},
   "source": [
    "## 2) Manipular datos\n",
    "\n",
    "Acá revisaremos funciones que nos dejar manipular el dataset y resumir información. Funciones útiles para esto son `mutate`, `filter`, `group_by`, y `select`. Además del operador `%>%`.\n",
    "\n",
    "### Operador `%>%`\n",
    "\n",
    "A veces mentalmente se traduce como \"y luego...\". La idea es encadenar una secuencia de funciones de forma que sea fácil leerla.\n"
   ]
  },
  {
   "cell_type": "code",
   "execution_count": 24,
   "metadata": {},
   "outputs": [
    {
     "ename": "ERROR",
     "evalue": "Error in tomo_desayuno(.): could not find function \"tomo_desayuno\"\n",
     "output_type": "error",
     "traceback": [
      "Error in tomo_desayuno(.): could not find function \"tomo_desayuno\"\nTraceback:\n",
      "1. yo_a_las_6am %>% me_levanto %>% me_visto %>% tomo_desayuno"
     ]
    }
   ],
   "source": [
    "yo_a_las_6am %>%\n",
    "    me_levanto %>%\n",
    "    me_visto %>%\n",
    "    tomo_desayuno "
   ]
  },
  {
   "cell_type": "markdown",
   "metadata": {},
   "source": [
    "La idea es hacer el código fluido. Al igual que el ejemplo **el orden es muy importante**.\n",
    "    "
   ]
  },
  {
   "cell_type": "markdown",
   "metadata": {},
   "source": [
    "### Pregunta: Cuales son los pesos promedios de las hembras por isla?\n",
    "\n",
    "Primero es útil la abstracción mental:"
   ]
  },
  {
   "cell_type": "code",
   "execution_count": null,
   "metadata": {},
   "outputs": [],
   "source": [
    "penguins %>%\n",
    "    selecciono_los_pesos_de_las_hembras %>%\n",
    "    agrupo_por_isla %>%\n",
    "    promedio_los_pesos"
   ]
  },
  {
   "cell_type": "markdown",
   "metadata": {},
   "source": [
    "Ahora con los pasos definidos, usamos `filter`, `group_by`, y `mean`. Además del operador `%>%`."
   ]
  },
  {
   "cell_type": "code",
   "execution_count": 34,
   "metadata": {},
   "outputs": [
    {
     "data": {
      "text/html": [
       "<table class=\"dataframe\">\n",
       "<caption>A tibble: 3 × 2</caption>\n",
       "<thead>\n",
       "\t<tr><th scope=col>island</th><th scope=col>promedio_hembras</th></tr>\n",
       "\t<tr><th scope=col>&lt;fct&gt;</th><th scope=col>&lt;dbl&gt;</th></tr>\n",
       "</thead>\n",
       "<tbody>\n",
       "\t<tr><td>Biscoe   </td><td>4319.375</td></tr>\n",
       "\t<tr><td>Dream    </td><td>3446.311</td></tr>\n",
       "\t<tr><td>Torgersen</td><td>3395.833</td></tr>\n",
       "</tbody>\n",
       "</table>\n"
      ],
      "text/latex": [
       "A tibble: 3 × 2\n",
       "\\begin{tabular}{ll}\n",
       " island & promedio\\_hembras\\\\\n",
       " <fct> & <dbl>\\\\\n",
       "\\hline\n",
       "\t Biscoe    & 4319.375\\\\\n",
       "\t Dream     & 3446.311\\\\\n",
       "\t Torgersen & 3395.833\\\\\n",
       "\\end{tabular}\n"
      ],
      "text/markdown": [
       "\n",
       "A tibble: 3 × 2\n",
       "\n",
       "| island &lt;fct&gt; | promedio_hembras &lt;dbl&gt; |\n",
       "|---|---|\n",
       "| Biscoe    | 4319.375 |\n",
       "| Dream     | 3446.311 |\n",
       "| Torgersen | 3395.833 |\n",
       "\n"
      ],
      "text/plain": [
       "  island    promedio_hembras\n",
       "1 Biscoe    4319.375        \n",
       "2 Dream     3446.311        \n",
       "3 Torgersen 3395.833        "
      ]
     },
     "metadata": {},
     "output_type": "display_data"
    }
   ],
   "source": [
    "penguins %>%\n",
    "    filter(sex == \"female\") %>% \n",
    "    group_by(island) %>%\n",
    "    summarize(promedio_hembras = mean(body_mass_g))"
   ]
  },
  {
   "cell_type": "markdown",
   "metadata": {},
   "source": [
    "## 3) Funciones `mutate()`,  `filter()`, `group_by()`, `select()`, `rename()`,`arrange()` y otras"
   ]
  },
  {
   "cell_type": "markdown",
   "metadata": {},
   "source": [
    "### `mutate()` crea o modifica una nueva variable"
   ]
  },
  {
   "cell_type": "code",
   "execution_count": 8,
   "metadata": {},
   "outputs": [
    {
     "data": {
      "text/html": [
       "<table class=\"dataframe\">\n",
       "<caption>A tibble: 3 × 9</caption>\n",
       "<thead>\n",
       "\t<tr><th scope=col>species</th><th scope=col>island</th><th scope=col>bill_length_mm</th><th scope=col>bill_depth_mm</th><th scope=col>flipper_length_mm</th><th scope=col>body_mass_g</th><th scope=col>sex</th><th scope=col>year</th><th scope=col>razon_bill_length_depth</th></tr>\n",
       "\t<tr><th scope=col>&lt;fct&gt;</th><th scope=col>&lt;fct&gt;</th><th scope=col>&lt;dbl&gt;</th><th scope=col>&lt;dbl&gt;</th><th scope=col>&lt;int&gt;</th><th scope=col>&lt;int&gt;</th><th scope=col>&lt;fct&gt;</th><th scope=col>&lt;int&gt;</th><th scope=col>&lt;dbl&gt;</th></tr>\n",
       "</thead>\n",
       "<tbody>\n",
       "\t<tr><td>Chinstrap</td><td>Dream</td><td>49.6</td><td>18.2</td><td>193</td><td>3775</td><td>male  </td><td>2009</td><td>2.725275</td></tr>\n",
       "\t<tr><td>Chinstrap</td><td>Dream</td><td>50.8</td><td>19.0</td><td>210</td><td>4100</td><td>male  </td><td>2009</td><td>2.673684</td></tr>\n",
       "\t<tr><td>Chinstrap</td><td>Dream</td><td>50.2</td><td>18.7</td><td>198</td><td>3775</td><td>female</td><td>2009</td><td>2.684492</td></tr>\n",
       "</tbody>\n",
       "</table>\n"
      ],
      "text/latex": [
       "A tibble: 3 × 9\n",
       "\\begin{tabular}{lllllllll}\n",
       " species & island & bill\\_length\\_mm & bill\\_depth\\_mm & flipper\\_length\\_mm & body\\_mass\\_g & sex & year & razon\\_bill\\_length\\_depth\\\\\n",
       " <fct> & <fct> & <dbl> & <dbl> & <int> & <int> & <fct> & <int> & <dbl>\\\\\n",
       "\\hline\n",
       "\t Chinstrap & Dream & 49.6 & 18.2 & 193 & 3775 & male   & 2009 & 2.725275\\\\\n",
       "\t Chinstrap & Dream & 50.8 & 19.0 & 210 & 4100 & male   & 2009 & 2.673684\\\\\n",
       "\t Chinstrap & Dream & 50.2 & 18.7 & 198 & 3775 & female & 2009 & 2.684492\\\\\n",
       "\\end{tabular}\n"
      ],
      "text/markdown": [
       "\n",
       "A tibble: 3 × 9\n",
       "\n",
       "| species &lt;fct&gt; | island &lt;fct&gt; | bill_length_mm &lt;dbl&gt; | bill_depth_mm &lt;dbl&gt; | flipper_length_mm &lt;int&gt; | body_mass_g &lt;int&gt; | sex &lt;fct&gt; | year &lt;int&gt; | razon_bill_length_depth &lt;dbl&gt; |\n",
       "|---|---|---|---|---|---|---|---|---|\n",
       "| Chinstrap | Dream | 49.6 | 18.2 | 193 | 3775 | male   | 2009 | 2.725275 |\n",
       "| Chinstrap | Dream | 50.8 | 19.0 | 210 | 4100 | male   | 2009 | 2.673684 |\n",
       "| Chinstrap | Dream | 50.2 | 18.7 | 198 | 3775 | female | 2009 | 2.684492 |\n",
       "\n"
      ],
      "text/plain": [
       "  species   island bill_length_mm bill_depth_mm flipper_length_mm body_mass_g\n",
       "1 Chinstrap Dream  49.6           18.2          193               3775       \n",
       "2 Chinstrap Dream  50.8           19.0          210               4100       \n",
       "3 Chinstrap Dream  50.2           18.7          198               3775       \n",
       "  sex    year razon_bill_length_depth\n",
       "1 male   2009 2.725275               \n",
       "2 male   2009 2.673684               \n",
       "3 female 2009 2.684492               "
      ]
     },
     "metadata": {},
     "output_type": "display_data"
    }
   ],
   "source": [
    "penguins %>% \n",
    "    mutate(razon_bill_length_depth = bill_length_mm / bill_depth_mm)%>% \n",
    "    tail(n = 3)"
   ]
  },
  {
   "cell_type": "markdown",
   "metadata": {},
   "source": [
    "### `recode()`  modifica una variable de forma rápida"
   ]
  },
  {
   "cell_type": "code",
   "execution_count": 14,
   "metadata": {},
   "outputs": [
    {
     "data": {
      "text/html": [
       "<table class=\"dataframe\">\n",
       "<caption>A tibble: 3 × 8</caption>\n",
       "<thead>\n",
       "\t<tr><th scope=col>species</th><th scope=col>island</th><th scope=col>bill_length_mm</th><th scope=col>bill_depth_mm</th><th scope=col>flipper_length_mm</th><th scope=col>body_mass_g</th><th scope=col>sex</th><th scope=col>year</th></tr>\n",
       "\t<tr><th scope=col>&lt;fct&gt;</th><th scope=col>&lt;fct&gt;</th><th scope=col>&lt;dbl&gt;</th><th scope=col>&lt;dbl&gt;</th><th scope=col>&lt;int&gt;</th><th scope=col>&lt;int&gt;</th><th scope=col>&lt;fct&gt;</th><th scope=col>&lt;int&gt;</th></tr>\n",
       "</thead>\n",
       "<tbody>\n",
       "\t<tr><td>Chinstrap</td><td>Dream</td><td>49.6</td><td>18.2</td><td>193</td><td>3775</td><td>macho </td><td>2009</td></tr>\n",
       "\t<tr><td>Chinstrap</td><td>Dream</td><td>50.8</td><td>19.0</td><td>210</td><td>4100</td><td>macho </td><td>2009</td></tr>\n",
       "\t<tr><td>Chinstrap</td><td>Dream</td><td>50.2</td><td>18.7</td><td>198</td><td>3775</td><td>hembra</td><td>2009</td></tr>\n",
       "</tbody>\n",
       "</table>\n"
      ],
      "text/latex": [
       "A tibble: 3 × 8\n",
       "\\begin{tabular}{llllllll}\n",
       " species & island & bill\\_length\\_mm & bill\\_depth\\_mm & flipper\\_length\\_mm & body\\_mass\\_g & sex & year\\\\\n",
       " <fct> & <fct> & <dbl> & <dbl> & <int> & <int> & <fct> & <int>\\\\\n",
       "\\hline\n",
       "\t Chinstrap & Dream & 49.6 & 18.2 & 193 & 3775 & macho  & 2009\\\\\n",
       "\t Chinstrap & Dream & 50.8 & 19.0 & 210 & 4100 & macho  & 2009\\\\\n",
       "\t Chinstrap & Dream & 50.2 & 18.7 & 198 & 3775 & hembra & 2009\\\\\n",
       "\\end{tabular}\n"
      ],
      "text/markdown": [
       "\n",
       "A tibble: 3 × 8\n",
       "\n",
       "| species &lt;fct&gt; | island &lt;fct&gt; | bill_length_mm &lt;dbl&gt; | bill_depth_mm &lt;dbl&gt; | flipper_length_mm &lt;int&gt; | body_mass_g &lt;int&gt; | sex &lt;fct&gt; | year &lt;int&gt; |\n",
       "|---|---|---|---|---|---|---|---|\n",
       "| Chinstrap | Dream | 49.6 | 18.2 | 193 | 3775 | macho  | 2009 |\n",
       "| Chinstrap | Dream | 50.8 | 19.0 | 210 | 4100 | macho  | 2009 |\n",
       "| Chinstrap | Dream | 50.2 | 18.7 | 198 | 3775 | hembra | 2009 |\n",
       "\n"
      ],
      "text/plain": [
       "  species   island bill_length_mm bill_depth_mm flipper_length_mm body_mass_g\n",
       "1 Chinstrap Dream  49.6           18.2          193               3775       \n",
       "2 Chinstrap Dream  50.8           19.0          210               4100       \n",
       "3 Chinstrap Dream  50.2           18.7          198               3775       \n",
       "  sex    year\n",
       "1 macho  2009\n",
       "2 macho  2009\n",
       "3 hembra 2009"
      ]
     },
     "metadata": {},
     "output_type": "display_data"
    }
   ],
   "source": [
    "penguins %>% \n",
    "    mutate(sex = recode(sex, male = \"macho\", female = \"hembra\"))%>% \n",
    "    tail(n = 3)"
   ]
  },
  {
   "cell_type": "markdown",
   "metadata": {},
   "source": [
    "### `filter()`  retiene filas que cumplen con las condiciones que indica"
   ]
  },
  {
   "cell_type": "code",
   "execution_count": 57,
   "metadata": {},
   "outputs": [
    {
     "data": {
      "text/html": [
       "<table class=\"dataframe\">\n",
       "<caption>A tibble: 3 × 8</caption>\n",
       "<thead>\n",
       "\t<tr><th scope=col>species</th><th scope=col>island</th><th scope=col>bill_length_mm</th><th scope=col>bill_depth_mm</th><th scope=col>flipper_length_mm</th><th scope=col>body_mass_g</th><th scope=col>sex</th><th scope=col>year</th></tr>\n",
       "\t<tr><th scope=col>&lt;fct&gt;</th><th scope=col>&lt;fct&gt;</th><th scope=col>&lt;dbl&gt;</th><th scope=col>&lt;dbl&gt;</th><th scope=col>&lt;int&gt;</th><th scope=col>&lt;int&gt;</th><th scope=col>&lt;fct&gt;</th><th scope=col>&lt;int&gt;</th></tr>\n",
       "</thead>\n",
       "<tbody>\n",
       "\t<tr><td>Chinstrap</td><td>Dream</td><td>45.7</td><td>17.0</td><td>195</td><td>3650</td><td>female</td><td>2009</td></tr>\n",
       "\t<tr><td>Chinstrap</td><td>Dream</td><td>43.5</td><td>18.1</td><td>202</td><td>3400</td><td>female</td><td>2009</td></tr>\n",
       "\t<tr><td>Chinstrap</td><td>Dream</td><td>50.2</td><td>18.7</td><td>198</td><td>3775</td><td>female</td><td>2009</td></tr>\n",
       "</tbody>\n",
       "</table>\n"
      ],
      "text/latex": [
       "A tibble: 3 × 8\n",
       "\\begin{tabular}{llllllll}\n",
       " species & island & bill\\_length\\_mm & bill\\_depth\\_mm & flipper\\_length\\_mm & body\\_mass\\_g & sex & year\\\\\n",
       " <fct> & <fct> & <dbl> & <dbl> & <int> & <int> & <fct> & <int>\\\\\n",
       "\\hline\n",
       "\t Chinstrap & Dream & 45.7 & 17.0 & 195 & 3650 & female & 2009\\\\\n",
       "\t Chinstrap & Dream & 43.5 & 18.1 & 202 & 3400 & female & 2009\\\\\n",
       "\t Chinstrap & Dream & 50.2 & 18.7 & 198 & 3775 & female & 2009\\\\\n",
       "\\end{tabular}\n"
      ],
      "text/markdown": [
       "\n",
       "A tibble: 3 × 8\n",
       "\n",
       "| species &lt;fct&gt; | island &lt;fct&gt; | bill_length_mm &lt;dbl&gt; | bill_depth_mm &lt;dbl&gt; | flipper_length_mm &lt;int&gt; | body_mass_g &lt;int&gt; | sex &lt;fct&gt; | year &lt;int&gt; |\n",
       "|---|---|---|---|---|---|---|---|\n",
       "| Chinstrap | Dream | 45.7 | 17.0 | 195 | 3650 | female | 2009 |\n",
       "| Chinstrap | Dream | 43.5 | 18.1 | 202 | 3400 | female | 2009 |\n",
       "| Chinstrap | Dream | 50.2 | 18.7 | 198 | 3775 | female | 2009 |\n",
       "\n"
      ],
      "text/plain": [
       "  species   island bill_length_mm bill_depth_mm flipper_length_mm body_mass_g\n",
       "1 Chinstrap Dream  45.7           17.0          195               3650       \n",
       "2 Chinstrap Dream  43.5           18.1          202               3400       \n",
       "3 Chinstrap Dream  50.2           18.7          198               3775       \n",
       "  sex    year\n",
       "1 female 2009\n",
       "2 female 2009\n",
       "3 female 2009"
      ]
     },
     "metadata": {},
     "output_type": "display_data"
    }
   ],
   "source": [
    "penguins %>% \n",
    "    filter(sex == \"female\") %>% \n",
    "    tail(n = 3)"
   ]
  },
  {
   "cell_type": "markdown",
   "metadata": {},
   "source": [
    "### Para usar `filter()`  es útil conocer los operadores para indicar las condiciones:\n",
    "* ==, >, >= etc.\n",
    "\n",
    "* &, |, !\n",
    "\n",
    "* is.na()\n",
    "\n",
    "* between(), near()\n",
    "\n",
    "Veamos unos ejemplos de operadores antes de seguir"
   ]
  },
  {
   "cell_type": "code",
   "execution_count": 45,
   "metadata": {},
   "outputs": [
    {
     "data": {
      "text/html": [
       "<table class=\"dataframe\">\n",
       "<caption>A tibble: 2 × 8</caption>\n",
       "<thead>\n",
       "\t<tr><th scope=col>species</th><th scope=col>island</th><th scope=col>bill_length_mm</th><th scope=col>bill_depth_mm</th><th scope=col>flipper_length_mm</th><th scope=col>body_mass_g</th><th scope=col>sex</th><th scope=col>year</th></tr>\n",
       "\t<tr><th scope=col>&lt;fct&gt;</th><th scope=col>&lt;fct&gt;</th><th scope=col>&lt;dbl&gt;</th><th scope=col>&lt;dbl&gt;</th><th scope=col>&lt;int&gt;</th><th scope=col>&lt;int&gt;</th><th scope=col>&lt;fct&gt;</th><th scope=col>&lt;int&gt;</th></tr>\n",
       "</thead>\n",
       "<tbody>\n",
       "\t<tr><td>Gentoo</td><td>Biscoe</td><td>46.5</td><td>14.8</td><td>217</td><td>5200</td><td>female</td><td>2008</td></tr>\n",
       "\t<tr><td>Gentoo</td><td>Biscoe</td><td>45.2</td><td>14.8</td><td>212</td><td>5200</td><td>female</td><td>2009</td></tr>\n",
       "</tbody>\n",
       "</table>\n"
      ],
      "text/latex": [
       "A tibble: 2 × 8\n",
       "\\begin{tabular}{llllllll}\n",
       " species & island & bill\\_length\\_mm & bill\\_depth\\_mm & flipper\\_length\\_mm & body\\_mass\\_g & sex & year\\\\\n",
       " <fct> & <fct> & <dbl> & <dbl> & <int> & <int> & <fct> & <int>\\\\\n",
       "\\hline\n",
       "\t Gentoo & Biscoe & 46.5 & 14.8 & 217 & 5200 & female & 2008\\\\\n",
       "\t Gentoo & Biscoe & 45.2 & 14.8 & 212 & 5200 & female & 2009\\\\\n",
       "\\end{tabular}\n"
      ],
      "text/markdown": [
       "\n",
       "A tibble: 2 × 8\n",
       "\n",
       "| species &lt;fct&gt; | island &lt;fct&gt; | bill_length_mm &lt;dbl&gt; | bill_depth_mm &lt;dbl&gt; | flipper_length_mm &lt;int&gt; | body_mass_g &lt;int&gt; | sex &lt;fct&gt; | year &lt;int&gt; |\n",
       "|---|---|---|---|---|---|---|---|\n",
       "| Gentoo | Biscoe | 46.5 | 14.8 | 217 | 5200 | female | 2008 |\n",
       "| Gentoo | Biscoe | 45.2 | 14.8 | 212 | 5200 | female | 2009 |\n",
       "\n"
      ],
      "text/plain": [
       "  species island bill_length_mm bill_depth_mm flipper_length_mm body_mass_g\n",
       "1 Gentoo  Biscoe 46.5           14.8          217               5200       \n",
       "2 Gentoo  Biscoe 45.2           14.8          212               5200       \n",
       "  sex    year\n",
       "1 female 2008\n",
       "2 female 2009"
      ]
     },
     "metadata": {},
     "output_type": "display_data"
    }
   ],
   "source": [
    "penguins %>% # operador ! indica logical negation (NOT) y operador & indica logical AND\n",
    "    filter(!sex == \"female\" &  between(body_mass_g,3000,3300))"
   ]
  },
  {
   "cell_type": "code",
   "execution_count": 56,
   "metadata": {},
   "outputs": [
    {
     "data": {
      "text/html": [
       "<table class=\"dataframe\">\n",
       "<caption>A tibble: 11 × 8</caption>\n",
       "<thead>\n",
       "\t<tr><th scope=col>species</th><th scope=col>island</th><th scope=col>bill_length_mm</th><th scope=col>bill_depth_mm</th><th scope=col>flipper_length_mm</th><th scope=col>body_mass_g</th><th scope=col>sex</th><th scope=col>year</th></tr>\n",
       "\t<tr><th scope=col>&lt;fct&gt;</th><th scope=col>&lt;fct&gt;</th><th scope=col>&lt;dbl&gt;</th><th scope=col>&lt;dbl&gt;</th><th scope=col>&lt;int&gt;</th><th scope=col>&lt;int&gt;</th><th scope=col>&lt;fct&gt;</th><th scope=col>&lt;int&gt;</th></tr>\n",
       "</thead>\n",
       "<tbody>\n",
       "\t<tr><td>Adelie</td><td>Torgersen</td><td>  NA</td><td>  NA</td><td> NA</td><td>  NA</td><td>NA</td><td>2007</td></tr>\n",
       "\t<tr><td>Adelie</td><td>Torgersen</td><td>34.1</td><td>18.1</td><td>193</td><td>3475</td><td>NA</td><td>2007</td></tr>\n",
       "\t<tr><td>Adelie</td><td>Torgersen</td><td>42.0</td><td>20.2</td><td>190</td><td>4250</td><td>NA</td><td>2007</td></tr>\n",
       "\t<tr><td>Adelie</td><td>Torgersen</td><td>37.8</td><td>17.1</td><td>186</td><td>3300</td><td>NA</td><td>2007</td></tr>\n",
       "\t<tr><td>Adelie</td><td>Torgersen</td><td>37.8</td><td>17.3</td><td>180</td><td>3700</td><td>NA</td><td>2007</td></tr>\n",
       "\t<tr><td>Adelie</td><td>Dream    </td><td>37.5</td><td>18.9</td><td>179</td><td>2975</td><td>NA</td><td>2007</td></tr>\n",
       "\t<tr><td>Gentoo</td><td>Biscoe   </td><td>44.5</td><td>14.3</td><td>216</td><td>4100</td><td>NA</td><td>2007</td></tr>\n",
       "\t<tr><td>Gentoo</td><td>Biscoe   </td><td>46.2</td><td>14.4</td><td>214</td><td>4650</td><td>NA</td><td>2008</td></tr>\n",
       "\t<tr><td>Gentoo</td><td>Biscoe   </td><td>47.3</td><td>13.8</td><td>216</td><td>4725</td><td>NA</td><td>2009</td></tr>\n",
       "\t<tr><td>Gentoo</td><td>Biscoe   </td><td>44.5</td><td>15.7</td><td>217</td><td>4875</td><td>NA</td><td>2009</td></tr>\n",
       "\t<tr><td>Gentoo</td><td>Biscoe   </td><td>  NA</td><td>  NA</td><td> NA</td><td>  NA</td><td>NA</td><td>2009</td></tr>\n",
       "</tbody>\n",
       "</table>\n"
      ],
      "text/latex": [
       "A tibble: 11 × 8\n",
       "\\begin{tabular}{llllllll}\n",
       " species & island & bill\\_length\\_mm & bill\\_depth\\_mm & flipper\\_length\\_mm & body\\_mass\\_g & sex & year\\\\\n",
       " <fct> & <fct> & <dbl> & <dbl> & <int> & <int> & <fct> & <int>\\\\\n",
       "\\hline\n",
       "\t Adelie & Torgersen &   NA &   NA &  NA &   NA & NA & 2007\\\\\n",
       "\t Adelie & Torgersen & 34.1 & 18.1 & 193 & 3475 & NA & 2007\\\\\n",
       "\t Adelie & Torgersen & 42.0 & 20.2 & 190 & 4250 & NA & 2007\\\\\n",
       "\t Adelie & Torgersen & 37.8 & 17.1 & 186 & 3300 & NA & 2007\\\\\n",
       "\t Adelie & Torgersen & 37.8 & 17.3 & 180 & 3700 & NA & 2007\\\\\n",
       "\t Adelie & Dream     & 37.5 & 18.9 & 179 & 2975 & NA & 2007\\\\\n",
       "\t Gentoo & Biscoe    & 44.5 & 14.3 & 216 & 4100 & NA & 2007\\\\\n",
       "\t Gentoo & Biscoe    & 46.2 & 14.4 & 214 & 4650 & NA & 2008\\\\\n",
       "\t Gentoo & Biscoe    & 47.3 & 13.8 & 216 & 4725 & NA & 2009\\\\\n",
       "\t Gentoo & Biscoe    & 44.5 & 15.7 & 217 & 4875 & NA & 2009\\\\\n",
       "\t Gentoo & Biscoe    &   NA &   NA &  NA &   NA & NA & 2009\\\\\n",
       "\\end{tabular}\n"
      ],
      "text/markdown": [
       "\n",
       "A tibble: 11 × 8\n",
       "\n",
       "| species &lt;fct&gt; | island &lt;fct&gt; | bill_length_mm &lt;dbl&gt; | bill_depth_mm &lt;dbl&gt; | flipper_length_mm &lt;int&gt; | body_mass_g &lt;int&gt; | sex &lt;fct&gt; | year &lt;int&gt; |\n",
       "|---|---|---|---|---|---|---|---|\n",
       "| Adelie | Torgersen |   NA |   NA |  NA |   NA | NA | 2007 |\n",
       "| Adelie | Torgersen | 34.1 | 18.1 | 193 | 3475 | NA | 2007 |\n",
       "| Adelie | Torgersen | 42.0 | 20.2 | 190 | 4250 | NA | 2007 |\n",
       "| Adelie | Torgersen | 37.8 | 17.1 | 186 | 3300 | NA | 2007 |\n",
       "| Adelie | Torgersen | 37.8 | 17.3 | 180 | 3700 | NA | 2007 |\n",
       "| Adelie | Dream     | 37.5 | 18.9 | 179 | 2975 | NA | 2007 |\n",
       "| Gentoo | Biscoe    | 44.5 | 14.3 | 216 | 4100 | NA | 2007 |\n",
       "| Gentoo | Biscoe    | 46.2 | 14.4 | 214 | 4650 | NA | 2008 |\n",
       "| Gentoo | Biscoe    | 47.3 | 13.8 | 216 | 4725 | NA | 2009 |\n",
       "| Gentoo | Biscoe    | 44.5 | 15.7 | 217 | 4875 | NA | 2009 |\n",
       "| Gentoo | Biscoe    |   NA |   NA |  NA |   NA | NA | 2009 |\n",
       "\n"
      ],
      "text/plain": [
       "   species island    bill_length_mm bill_depth_mm flipper_length_mm body_mass_g\n",
       "1  Adelie  Torgersen   NA             NA           NA                 NA       \n",
       "2  Adelie  Torgersen 34.1           18.1          193               3475       \n",
       "3  Adelie  Torgersen 42.0           20.2          190               4250       \n",
       "4  Adelie  Torgersen 37.8           17.1          186               3300       \n",
       "5  Adelie  Torgersen 37.8           17.3          180               3700       \n",
       "6  Adelie  Dream     37.5           18.9          179               2975       \n",
       "7  Gentoo  Biscoe    44.5           14.3          216               4100       \n",
       "8  Gentoo  Biscoe    46.2           14.4          214               4650       \n",
       "9  Gentoo  Biscoe    47.3           13.8          216               4725       \n",
       "10 Gentoo  Biscoe    44.5           15.7          217               4875       \n",
       "11 Gentoo  Biscoe      NA             NA           NA                 NA       \n",
       "   sex year\n",
       "1  NA  2007\n",
       "2  NA  2007\n",
       "3  NA  2007\n",
       "4  NA  2007\n",
       "5  NA  2007\n",
       "6  NA  2007\n",
       "7  NA  2007\n",
       "8  NA  2008\n",
       "9  NA  2009\n",
       "10 NA  2009\n",
       "11 NA  2009"
      ]
     },
     "metadata": {},
     "output_type": "display_data"
    }
   ],
   "source": [
    "penguins %>% # is.na() filtra las filas con NA y operador & indica logical OR\n",
    "    filter(is.na(sex) | is.na(body_mass_g))"
   ]
  },
  {
   "cell_type": "markdown",
   "metadata": {},
   "source": [
    "### `group_by()`  agrupa variables para las siguientes operaciones. `ungroup()` termina la función"
   ]
  },
  {
   "cell_type": "code",
   "execution_count": 67,
   "metadata": {},
   "outputs": [
    {
     "data": {
      "text/html": [
       "<table class=\"dataframe\">\n",
       "<caption>A tibble: 3 × 2</caption>\n",
       "<thead>\n",
       "\t<tr><th scope=col>sex</th><th scope=col>promedio</th></tr>\n",
       "\t<tr><th scope=col>&lt;fct&gt;</th><th scope=col>&lt;dbl&gt;</th></tr>\n",
       "</thead>\n",
       "<tbody>\n",
       "\t<tr><td>female</td><td>3862.273</td></tr>\n",
       "\t<tr><td>male  </td><td>4545.685</td></tr>\n",
       "\t<tr><td>NA    </td><td>      NA</td></tr>\n",
       "</tbody>\n",
       "</table>\n"
      ],
      "text/latex": [
       "A tibble: 3 × 2\n",
       "\\begin{tabular}{ll}\n",
       " sex & promedio\\\\\n",
       " <fct> & <dbl>\\\\\n",
       "\\hline\n",
       "\t female & 3862.273\\\\\n",
       "\t male   & 4545.685\\\\\n",
       "\t NA     &       NA\\\\\n",
       "\\end{tabular}\n"
      ],
      "text/markdown": [
       "\n",
       "A tibble: 3 × 2\n",
       "\n",
       "| sex &lt;fct&gt; | promedio &lt;dbl&gt; |\n",
       "|---|---|\n",
       "| female | 3862.273 |\n",
       "| male   | 4545.685 |\n",
       "| NA     |       NA |\n",
       "\n"
      ],
      "text/plain": [
       "  sex    promedio\n",
       "1 female 3862.273\n",
       "2 male   4545.685\n",
       "3 NA           NA"
      ]
     },
     "metadata": {},
     "output_type": "display_data"
    }
   ],
   "source": [
    "penguins %>% \n",
    "    group_by(sex) %>%\n",
    "    summarize(promedio = mean(body_mass_g))%>%\n",
    "    ungroup()"
   ]
  },
  {
   "cell_type": "markdown",
   "metadata": {},
   "source": [
    "### Ahora podemos combinar  `filter()` y  `mutate()` "
   ]
  },
  {
   "cell_type": "code",
   "execution_count": 66,
   "metadata": {},
   "outputs": [
    {
     "data": {
      "text/html": [
       "<table class=\"dataframe\">\n",
       "<caption>A tibble: 2 × 2</caption>\n",
       "<thead>\n",
       "\t<tr><th scope=col>sex</th><th scope=col>promedio</th></tr>\n",
       "\t<tr><th scope=col>&lt;fct&gt;</th><th scope=col>&lt;dbl&gt;</th></tr>\n",
       "</thead>\n",
       "<tbody>\n",
       "\t<tr><td>female</td><td>3862.273</td></tr>\n",
       "\t<tr><td>male  </td><td>4545.685</td></tr>\n",
       "</tbody>\n",
       "</table>\n"
      ],
      "text/latex": [
       "A tibble: 2 × 2\n",
       "\\begin{tabular}{ll}\n",
       " sex & promedio\\\\\n",
       " <fct> & <dbl>\\\\\n",
       "\\hline\n",
       "\t female & 3862.273\\\\\n",
       "\t male   & 4545.685\\\\\n",
       "\\end{tabular}\n"
      ],
      "text/markdown": [
       "\n",
       "A tibble: 2 × 2\n",
       "\n",
       "| sex &lt;fct&gt; | promedio &lt;dbl&gt; |\n",
       "|---|---|\n",
       "| female | 3862.273 |\n",
       "| male   | 4545.685 |\n",
       "\n"
      ],
      "text/plain": [
       "  sex    promedio\n",
       "1 female 3862.273\n",
       "2 male   4545.685"
      ]
     },
     "metadata": {},
     "output_type": "display_data"
    }
   ],
   "source": [
    "penguins %>% \n",
    "    filter(!is.na(sex) & !is.na(body_mass_g))%>% \n",
    "    group_by(sex) %>%\n",
    "    summarize(promedio = mean(body_mass_g)) %>%\n",
    "    ungroup()"
   ]
  },
  {
   "cell_type": "markdown",
   "metadata": {},
   "source": [
    "###  `ungroup()` es importante!!"
   ]
  },
  {
   "cell_type": "code",
   "execution_count": 84,
   "metadata": {},
   "outputs": [
    {
     "data": {
      "text/html": [
       "<table class=\"dataframe\">\n",
       "<caption>A tibble: 6 × 10</caption>\n",
       "<thead>\n",
       "\t<tr><th scope=col>species</th><th scope=col>island</th><th scope=col>bill_length_mm</th><th scope=col>bill_depth_mm</th><th scope=col>flipper_length_mm</th><th scope=col>body_mass_g</th><th scope=col>sex</th><th scope=col>year</th><th scope=col>promedio_body_mass_g</th><th scope=col>promedio_bill_depth</th></tr>\n",
       "\t<tr><th scope=col>&lt;fct&gt;</th><th scope=col>&lt;fct&gt;</th><th scope=col>&lt;dbl&gt;</th><th scope=col>&lt;dbl&gt;</th><th scope=col>&lt;int&gt;</th><th scope=col>&lt;int&gt;</th><th scope=col>&lt;fct&gt;</th><th scope=col>&lt;int&gt;</th><th scope=col>&lt;dbl&gt;</th><th scope=col>&lt;dbl&gt;</th></tr>\n",
       "</thead>\n",
       "<tbody>\n",
       "\t<tr><td>Chinstrap</td><td>Dream</td><td>45.7</td><td>17.0</td><td>195</td><td>3650</td><td>female</td><td>2009</td><td>3862.273</td><td>16.42545</td></tr>\n",
       "\t<tr><td>Chinstrap</td><td>Dream</td><td>55.8</td><td>19.8</td><td>207</td><td>4000</td><td>male  </td><td>2009</td><td>4545.685</td><td>17.89107</td></tr>\n",
       "\t<tr><td>Chinstrap</td><td>Dream</td><td>43.5</td><td>18.1</td><td>202</td><td>3400</td><td>female</td><td>2009</td><td>3862.273</td><td>16.42545</td></tr>\n",
       "\t<tr><td>Chinstrap</td><td>Dream</td><td>49.6</td><td>18.2</td><td>193</td><td>3775</td><td>male  </td><td>2009</td><td>4545.685</td><td>17.89107</td></tr>\n",
       "\t<tr><td>Chinstrap</td><td>Dream</td><td>50.8</td><td>19.0</td><td>210</td><td>4100</td><td>male  </td><td>2009</td><td>4545.685</td><td>17.89107</td></tr>\n",
       "\t<tr><td>Chinstrap</td><td>Dream</td><td>50.2</td><td>18.7</td><td>198</td><td>3775</td><td>female</td><td>2009</td><td>3862.273</td><td>16.42545</td></tr>\n",
       "</tbody>\n",
       "</table>\n"
      ],
      "text/latex": [
       "A tibble: 6 × 10\n",
       "\\begin{tabular}{llllllllll}\n",
       " species & island & bill\\_length\\_mm & bill\\_depth\\_mm & flipper\\_length\\_mm & body\\_mass\\_g & sex & year & promedio\\_body\\_mass\\_g & promedio\\_bill\\_depth\\\\\n",
       " <fct> & <fct> & <dbl> & <dbl> & <int> & <int> & <fct> & <int> & <dbl> & <dbl>\\\\\n",
       "\\hline\n",
       "\t Chinstrap & Dream & 45.7 & 17.0 & 195 & 3650 & female & 2009 & 3862.273 & 16.42545\\\\\n",
       "\t Chinstrap & Dream & 55.8 & 19.8 & 207 & 4000 & male   & 2009 & 4545.685 & 17.89107\\\\\n",
       "\t Chinstrap & Dream & 43.5 & 18.1 & 202 & 3400 & female & 2009 & 3862.273 & 16.42545\\\\\n",
       "\t Chinstrap & Dream & 49.6 & 18.2 & 193 & 3775 & male   & 2009 & 4545.685 & 17.89107\\\\\n",
       "\t Chinstrap & Dream & 50.8 & 19.0 & 210 & 4100 & male   & 2009 & 4545.685 & 17.89107\\\\\n",
       "\t Chinstrap & Dream & 50.2 & 18.7 & 198 & 3775 & female & 2009 & 3862.273 & 16.42545\\\\\n",
       "\\end{tabular}\n"
      ],
      "text/markdown": [
       "\n",
       "A tibble: 6 × 10\n",
       "\n",
       "| species &lt;fct&gt; | island &lt;fct&gt; | bill_length_mm &lt;dbl&gt; | bill_depth_mm &lt;dbl&gt; | flipper_length_mm &lt;int&gt; | body_mass_g &lt;int&gt; | sex &lt;fct&gt; | year &lt;int&gt; | promedio_body_mass_g &lt;dbl&gt; | promedio_bill_depth &lt;dbl&gt; |\n",
       "|---|---|---|---|---|---|---|---|---|---|\n",
       "| Chinstrap | Dream | 45.7 | 17.0 | 195 | 3650 | female | 2009 | 3862.273 | 16.42545 |\n",
       "| Chinstrap | Dream | 55.8 | 19.8 | 207 | 4000 | male   | 2009 | 4545.685 | 17.89107 |\n",
       "| Chinstrap | Dream | 43.5 | 18.1 | 202 | 3400 | female | 2009 | 3862.273 | 16.42545 |\n",
       "| Chinstrap | Dream | 49.6 | 18.2 | 193 | 3775 | male   | 2009 | 4545.685 | 17.89107 |\n",
       "| Chinstrap | Dream | 50.8 | 19.0 | 210 | 4100 | male   | 2009 | 4545.685 | 17.89107 |\n",
       "| Chinstrap | Dream | 50.2 | 18.7 | 198 | 3775 | female | 2009 | 3862.273 | 16.42545 |\n",
       "\n"
      ],
      "text/plain": [
       "  species   island bill_length_mm bill_depth_mm flipper_length_mm body_mass_g\n",
       "1 Chinstrap Dream  45.7           17.0          195               3650       \n",
       "2 Chinstrap Dream  55.8           19.8          207               4000       \n",
       "3 Chinstrap Dream  43.5           18.1          202               3400       \n",
       "4 Chinstrap Dream  49.6           18.2          193               3775       \n",
       "5 Chinstrap Dream  50.8           19.0          210               4100       \n",
       "6 Chinstrap Dream  50.2           18.7          198               3775       \n",
       "  sex    year promedio_body_mass_g promedio_bill_depth\n",
       "1 female 2009 3862.273             16.42545           \n",
       "2 male   2009 4545.685             17.89107           \n",
       "3 female 2009 3862.273             16.42545           \n",
       "4 male   2009 4545.685             17.89107           \n",
       "5 male   2009 4545.685             17.89107           \n",
       "6 female 2009 3862.273             16.42545           "
      ]
     },
     "metadata": {},
     "output_type": "display_data"
    }
   ],
   "source": [
    "penguins %>% \n",
    "  group_by(sex) %>% \n",
    "  mutate(promedio_body_mass_g = mean(body_mass_g)) %>%    # calcula el promedio de peso de males y females\n",
    "  mutate(promedio_bill_depth = mean(bill_depth_mm)) %>%  # calcula el promedio de bill_depth de males y females\n",
    "  ungroup() %>% \n",
    "  tail(n = 6) # cerrando con ungroup() \n"
   ]
  },
  {
   "cell_type": "markdown",
   "metadata": {},
   "source": [
    "### Para contar grupos usamos `tally()` "
   ]
  },
  {
   "cell_type": "code",
   "execution_count": 88,
   "metadata": {},
   "outputs": [
    {
     "data": {
      "text/html": [
       "<table class=\"dataframe\">\n",
       "<caption>A grouped_df: 9 × 3</caption>\n",
       "<thead>\n",
       "\t<tr><th scope=col>sex</th><th scope=col>island</th><th scope=col>n</th></tr>\n",
       "\t<tr><th scope=col>&lt;fct&gt;</th><th scope=col>&lt;fct&gt;</th><th scope=col>&lt;int&gt;</th></tr>\n",
       "</thead>\n",
       "<tbody>\n",
       "\t<tr><td>male  </td><td>Biscoe   </td><td>83</td></tr>\n",
       "\t<tr><td>female</td><td>Biscoe   </td><td>80</td></tr>\n",
       "\t<tr><td>male  </td><td>Dream    </td><td>62</td></tr>\n",
       "\t<tr><td>female</td><td>Dream    </td><td>61</td></tr>\n",
       "\t<tr><td>female</td><td>Torgersen</td><td>24</td></tr>\n",
       "\t<tr><td>male  </td><td>Torgersen</td><td>23</td></tr>\n",
       "\t<tr><td>NA    </td><td>Biscoe   </td><td> 5</td></tr>\n",
       "\t<tr><td>NA    </td><td>Torgersen</td><td> 5</td></tr>\n",
       "\t<tr><td>NA    </td><td>Dream    </td><td> 1</td></tr>\n",
       "</tbody>\n",
       "</table>\n"
      ],
      "text/latex": [
       "A grouped\\_df: 9 × 3\n",
       "\\begin{tabular}{lll}\n",
       " sex & island & n\\\\\n",
       " <fct> & <fct> & <int>\\\\\n",
       "\\hline\n",
       "\t male   & Biscoe    & 83\\\\\n",
       "\t female & Biscoe    & 80\\\\\n",
       "\t male   & Dream     & 62\\\\\n",
       "\t female & Dream     & 61\\\\\n",
       "\t female & Torgersen & 24\\\\\n",
       "\t male   & Torgersen & 23\\\\\n",
       "\t NA     & Biscoe    &  5\\\\\n",
       "\t NA     & Torgersen &  5\\\\\n",
       "\t NA     & Dream     &  1\\\\\n",
       "\\end{tabular}\n"
      ],
      "text/markdown": [
       "\n",
       "A grouped_df: 9 × 3\n",
       "\n",
       "| sex &lt;fct&gt; | island &lt;fct&gt; | n &lt;int&gt; |\n",
       "|---|---|---|\n",
       "| male   | Biscoe    | 83 |\n",
       "| female | Biscoe    | 80 |\n",
       "| male   | Dream     | 62 |\n",
       "| female | Dream     | 61 |\n",
       "| female | Torgersen | 24 |\n",
       "| male   | Torgersen | 23 |\n",
       "| NA     | Biscoe    |  5 |\n",
       "| NA     | Torgersen |  5 |\n",
       "| NA     | Dream     |  1 |\n",
       "\n"
      ],
      "text/plain": [
       "  sex    island    n \n",
       "1 male   Biscoe    83\n",
       "2 female Biscoe    80\n",
       "3 male   Dream     62\n",
       "4 female Dream     61\n",
       "5 female Torgersen 24\n",
       "6 male   Torgersen 23\n",
       "7 NA     Biscoe     5\n",
       "8 NA     Torgersen  5\n",
       "9 NA     Dream      1"
      ]
     },
     "metadata": {},
     "output_type": "display_data"
    }
   ],
   "source": [
    "penguins %>% \n",
    "  group_by(sex, island) %>%\n",
    "  tally(sort = TRUE) # sort = TRUE ordena de mayor a menor "
   ]
  },
  {
   "cell_type": "markdown",
   "metadata": {},
   "source": [
    "### Trabajar con `group_by()` es útil en conjunto a `summarise()`"
   ]
  },
  {
   "cell_type": "code",
   "execution_count": 91,
   "metadata": {},
   "outputs": [
    {
     "name": "stderr",
     "output_type": "stream",
     "text": [
      "\u001b[1m\u001b[22m`summarise()` has grouped output by 'sex'. You can override using the `.groups`\n",
      "argument.\n"
     ]
    },
    {
     "data": {
      "text/html": [
       "<table class=\"dataframe\">\n",
       "<caption>A grouped_df: 9 × 4</caption>\n",
       "<thead>\n",
       "\t<tr><th scope=col>sex</th><th scope=col>island</th><th scope=col>n</th><th scope=col>promedio_peso</th></tr>\n",
       "\t<tr><th scope=col>&lt;fct&gt;</th><th scope=col>&lt;fct&gt;</th><th scope=col>&lt;int&gt;</th><th scope=col>&lt;dbl&gt;</th></tr>\n",
       "</thead>\n",
       "<tbody>\n",
       "\t<tr><td>female</td><td>Biscoe   </td><td>80</td><td>4319.375</td></tr>\n",
       "\t<tr><td>female</td><td>Dream    </td><td>61</td><td>3446.311</td></tr>\n",
       "\t<tr><td>female</td><td>Torgersen</td><td>24</td><td>3395.833</td></tr>\n",
       "\t<tr><td>male  </td><td>Biscoe   </td><td>83</td><td>5104.518</td></tr>\n",
       "\t<tr><td>male  </td><td>Dream    </td><td>62</td><td>3987.097</td></tr>\n",
       "\t<tr><td>male  </td><td>Torgersen</td><td>23</td><td>4034.783</td></tr>\n",
       "\t<tr><td>NA    </td><td>Biscoe   </td><td> 5</td><td>4587.500</td></tr>\n",
       "\t<tr><td>NA    </td><td>Dream    </td><td> 1</td><td>2975.000</td></tr>\n",
       "\t<tr><td>NA    </td><td>Torgersen</td><td> 5</td><td>3681.250</td></tr>\n",
       "</tbody>\n",
       "</table>\n"
      ],
      "text/latex": [
       "A grouped\\_df: 9 × 4\n",
       "\\begin{tabular}{llll}\n",
       " sex & island & n & promedio\\_peso\\\\\n",
       " <fct> & <fct> & <int> & <dbl>\\\\\n",
       "\\hline\n",
       "\t female & Biscoe    & 80 & 4319.375\\\\\n",
       "\t female & Dream     & 61 & 3446.311\\\\\n",
       "\t female & Torgersen & 24 & 3395.833\\\\\n",
       "\t male   & Biscoe    & 83 & 5104.518\\\\\n",
       "\t male   & Dream     & 62 & 3987.097\\\\\n",
       "\t male   & Torgersen & 23 & 4034.783\\\\\n",
       "\t NA     & Biscoe    &  5 & 4587.500\\\\\n",
       "\t NA     & Dream     &  1 & 2975.000\\\\\n",
       "\t NA     & Torgersen &  5 & 3681.250\\\\\n",
       "\\end{tabular}\n"
      ],
      "text/markdown": [
       "\n",
       "A grouped_df: 9 × 4\n",
       "\n",
       "| sex &lt;fct&gt; | island &lt;fct&gt; | n &lt;int&gt; | promedio_peso &lt;dbl&gt; |\n",
       "|---|---|---|---|\n",
       "| female | Biscoe    | 80 | 4319.375 |\n",
       "| female | Dream     | 61 | 3446.311 |\n",
       "| female | Torgersen | 24 | 3395.833 |\n",
       "| male   | Biscoe    | 83 | 5104.518 |\n",
       "| male   | Dream     | 62 | 3987.097 |\n",
       "| male   | Torgersen | 23 | 4034.783 |\n",
       "| NA     | Biscoe    |  5 | 4587.500 |\n",
       "| NA     | Dream     |  1 | 2975.000 |\n",
       "| NA     | Torgersen |  5 | 3681.250 |\n",
       "\n"
      ],
      "text/plain": [
       "  sex    island    n  promedio_peso\n",
       "1 female Biscoe    80 4319.375     \n",
       "2 female Dream     61 3446.311     \n",
       "3 female Torgersen 24 3395.833     \n",
       "4 male   Biscoe    83 5104.518     \n",
       "5 male   Dream     62 3987.097     \n",
       "6 male   Torgersen 23 4034.783     \n",
       "7 NA     Biscoe     5 4587.500     \n",
       "8 NA     Dream      1 2975.000     \n",
       "9 NA     Torgersen  5 3681.250     "
      ]
     },
     "metadata": {},
     "output_type": "display_data"
    }
   ],
   "source": [
    "penguins %>% \n",
    "  group_by(sex, island) %>%\n",
    "  summarise(\n",
    "    n = n(),\n",
    "    promedio_peso = mean(body_mass_g, na.rm = TRUE)\n",
    "  )"
   ]
  },
  {
   "cell_type": "markdown",
   "metadata": {},
   "source": [
    "### Para terminar, un operador extra `%in%`, un poco de estadistica con `t.test` y  un plot\n",
    "*  `%in%`  se traduce como \"me quiero quedar con estos atributos\"\n",
    "*  `ggplot`  es la función base de tidyverse para graficar\n",
    "\n",
    "### Misión: evaluar y graficar que tan diferente es la masa de las hembras en dos islas: Biscoe y Dream"
   ]
  },
  {
   "cell_type": "code",
   "execution_count": 103,
   "metadata": {},
   "outputs": [
    {
     "data": {
      "text/html": [
       "<table class=\"dataframe\">\n",
       "<caption>A tibble: 141 × 9</caption>\n",
       "<thead>\n",
       "\t<tr><th scope=col>species</th><th scope=col>bill_length_mm</th><th scope=col>bill_depth_mm</th><th scope=col>flipper_length_mm</th><th scope=col>sex</th><th scope=col>year</th><th scope=col>id_pinguinas</th><th scope=col>Biscoe</th><th scope=col>Dream</th></tr>\n",
       "\t<tr><th scope=col>&lt;fct&gt;</th><th scope=col>&lt;dbl&gt;</th><th scope=col>&lt;dbl&gt;</th><th scope=col>&lt;int&gt;</th><th scope=col>&lt;fct&gt;</th><th scope=col>&lt;int&gt;</th><th scope=col>&lt;int&gt;</th><th scope=col>&lt;int&gt;</th><th scope=col>&lt;int&gt;</th></tr>\n",
       "</thead>\n",
       "<tbody>\n",
       "\t<tr><td>Adelie</td><td>37.8</td><td>18.3</td><td>174</td><td>female</td><td>2007</td><td> 1</td><td>3400</td><td>  NA</td></tr>\n",
       "\t<tr><td>Adelie</td><td>35.9</td><td>19.2</td><td>189</td><td>female</td><td>2007</td><td> 2</td><td>3800</td><td>  NA</td></tr>\n",
       "\t<tr><td>Adelie</td><td>35.3</td><td>18.9</td><td>187</td><td>female</td><td>2007</td><td> 3</td><td>3800</td><td>  NA</td></tr>\n",
       "\t<tr><td>Adelie</td><td>40.5</td><td>17.9</td><td>187</td><td>female</td><td>2007</td><td> 4</td><td>3200</td><td>  NA</td></tr>\n",
       "\t<tr><td>Adelie</td><td>37.9</td><td>18.6</td><td>172</td><td>female</td><td>2007</td><td> 5</td><td>3150</td><td>  NA</td></tr>\n",
       "\t<tr><td>Adelie</td><td>39.5</td><td>16.7</td><td>178</td><td>female</td><td>2007</td><td> 6</td><td>  NA</td><td>3250</td></tr>\n",
       "\t<tr><td>Adelie</td><td>39.5</td><td>17.8</td><td>188</td><td>female</td><td>2007</td><td> 7</td><td>  NA</td><td>3300</td></tr>\n",
       "\t<tr><td>Adelie</td><td>36.4</td><td>17.0</td><td>195</td><td>female</td><td>2007</td><td> 8</td><td>  NA</td><td>3325</td></tr>\n",
       "\t<tr><td>Adelie</td><td>42.2</td><td>18.5</td><td>180</td><td>female</td><td>2007</td><td> 9</td><td>  NA</td><td>3550</td></tr>\n",
       "\t<tr><td>Adelie</td><td>37.6</td><td>19.3</td><td>181</td><td>female</td><td>2007</td><td>10</td><td>  NA</td><td>3300</td></tr>\n",
       "\t<tr><td>Adelie</td><td>36.5</td><td>18.0</td><td>182</td><td>female</td><td>2007</td><td>11</td><td>  NA</td><td>3150</td></tr>\n",
       "\t<tr><td>Adelie</td><td>36.0</td><td>18.5</td><td>186</td><td>female</td><td>2007</td><td>12</td><td>  NA</td><td>3100</td></tr>\n",
       "\t<tr><td>Adelie</td><td>37.0</td><td>16.9</td><td>185</td><td>female</td><td>2007</td><td>13</td><td>  NA</td><td>3000</td></tr>\n",
       "\t<tr><td>Adelie</td><td>36.0</td><td>17.9</td><td>190</td><td>female</td><td>2007</td><td>14</td><td>  NA</td><td>3450</td></tr>\n",
       "\t<tr><td>Adelie</td><td>39.6</td><td>17.7</td><td>186</td><td>female</td><td>2008</td><td>15</td><td>3500</td><td>  NA</td></tr>\n",
       "\t<tr><td>Adelie</td><td>35.0</td><td>17.9</td><td>190</td><td>female</td><td>2008</td><td>16</td><td>3450</td><td>  NA</td></tr>\n",
       "\t<tr><td>Adelie</td><td>34.5</td><td>18.1</td><td>187</td><td>female</td><td>2008</td><td>17</td><td>2900</td><td>  NA</td></tr>\n",
       "\t<tr><td>Adelie</td><td>39.0</td><td>17.5</td><td>186</td><td>female</td><td>2008</td><td>18</td><td>3550</td><td>  NA</td></tr>\n",
       "\t<tr><td>Adelie</td><td>36.5</td><td>16.6</td><td>181</td><td>female</td><td>2008</td><td>19</td><td>2850</td><td>  NA</td></tr>\n",
       "\t<tr><td>Adelie</td><td>35.7</td><td>16.9</td><td>185</td><td>female</td><td>2008</td><td>20</td><td>3150</td><td>  NA</td></tr>\n",
       "\t<tr><td>Adelie</td><td>37.6</td><td>17.0</td><td>185</td><td>female</td><td>2008</td><td>21</td><td>3600</td><td>  NA</td></tr>\n",
       "\t<tr><td>Adelie</td><td>36.4</td><td>17.1</td><td>184</td><td>female</td><td>2008</td><td>22</td><td>2850</td><td>  NA</td></tr>\n",
       "\t<tr><td>Adelie</td><td>35.5</td><td>16.2</td><td>195</td><td>female</td><td>2008</td><td>23</td><td>3350</td><td>  NA</td></tr>\n",
       "\t<tr><td>Adelie</td><td>37.3</td><td>17.8</td><td>191</td><td>female</td><td>2008</td><td>24</td><td>  NA</td><td>3350</td></tr>\n",
       "\t<tr><td>Adelie</td><td>36.9</td><td>18.6</td><td>189</td><td>female</td><td>2008</td><td>25</td><td>  NA</td><td>3500</td></tr>\n",
       "\t<tr><td>Adelie</td><td>38.9</td><td>18.8</td><td>190</td><td>female</td><td>2008</td><td>26</td><td>  NA</td><td>3600</td></tr>\n",
       "\t<tr><td>Adelie</td><td>35.7</td><td>18.0</td><td>202</td><td>female</td><td>2008</td><td>27</td><td>  NA</td><td>3550</td></tr>\n",
       "\t<tr><td>Adelie</td><td>34.0</td><td>17.1</td><td>185</td><td>female</td><td>2008</td><td>28</td><td>  NA</td><td>3400</td></tr>\n",
       "\t<tr><td>Adelie</td><td>36.2</td><td>17.3</td><td>187</td><td>female</td><td>2008</td><td>29</td><td>  NA</td><td>3300</td></tr>\n",
       "\t<tr><td>Adelie</td><td>38.1</td><td>18.6</td><td>190</td><td>female</td><td>2008</td><td>30</td><td>  NA</td><td>3700</td></tr>\n",
       "\t<tr><td>⋮</td><td>⋮</td><td>⋮</td><td>⋮</td><td>⋮</td><td>⋮</td><td>⋮</td><td>⋮</td><td>⋮</td></tr>\n",
       "\t<tr><td>Chinstrap</td><td>46.0</td><td>18.9</td><td>195</td><td>female</td><td>2007</td><td>112</td><td>NA</td><td>4150</td></tr>\n",
       "\t<tr><td>Chinstrap</td><td>46.6</td><td>17.8</td><td>193</td><td>female</td><td>2007</td><td>113</td><td>NA</td><td>3800</td></tr>\n",
       "\t<tr><td>Chinstrap</td><td>47.0</td><td>17.3</td><td>185</td><td>female</td><td>2007</td><td>114</td><td>NA</td><td>3700</td></tr>\n",
       "\t<tr><td>Chinstrap</td><td>45.9</td><td>17.1</td><td>190</td><td>female</td><td>2007</td><td>115</td><td>NA</td><td>3575</td></tr>\n",
       "\t<tr><td>Chinstrap</td><td>58.0</td><td>17.8</td><td>181</td><td>female</td><td>2007</td><td>116</td><td>NA</td><td>3700</td></tr>\n",
       "\t<tr><td>Chinstrap</td><td>46.4</td><td>18.6</td><td>190</td><td>female</td><td>2007</td><td>117</td><td>NA</td><td>3450</td></tr>\n",
       "\t<tr><td>Chinstrap</td><td>42.4</td><td>17.3</td><td>181</td><td>female</td><td>2007</td><td>118</td><td>NA</td><td>3600</td></tr>\n",
       "\t<tr><td>Chinstrap</td><td>43.2</td><td>16.6</td><td>187</td><td>female</td><td>2007</td><td>119</td><td>NA</td><td>2900</td></tr>\n",
       "\t<tr><td>Chinstrap</td><td>46.7</td><td>17.9</td><td>195</td><td>female</td><td>2007</td><td>120</td><td>NA</td><td>3300</td></tr>\n",
       "\t<tr><td>Chinstrap</td><td>50.5</td><td>18.4</td><td>200</td><td>female</td><td>2008</td><td>121</td><td>NA</td><td>3400</td></tr>\n",
       "\t<tr><td>Chinstrap</td><td>46.4</td><td>17.8</td><td>191</td><td>female</td><td>2008</td><td>122</td><td>NA</td><td>3700</td></tr>\n",
       "\t<tr><td>Chinstrap</td><td>40.9</td><td>16.6</td><td>187</td><td>female</td><td>2008</td><td>123</td><td>NA</td><td>3200</td></tr>\n",
       "\t<tr><td>Chinstrap</td><td>42.5</td><td>16.7</td><td>187</td><td>female</td><td>2008</td><td>124</td><td>NA</td><td>3350</td></tr>\n",
       "\t<tr><td>Chinstrap</td><td>47.5</td><td>16.8</td><td>199</td><td>female</td><td>2008</td><td>125</td><td>NA</td><td>3900</td></tr>\n",
       "\t<tr><td>Chinstrap</td><td>47.6</td><td>18.3</td><td>195</td><td>female</td><td>2008</td><td>126</td><td>NA</td><td>3850</td></tr>\n",
       "\t<tr><td>Chinstrap</td><td>46.9</td><td>16.6</td><td>192</td><td>female</td><td>2008</td><td>127</td><td>NA</td><td>2700</td></tr>\n",
       "\t<tr><td>Chinstrap</td><td>46.2</td><td>17.5</td><td>187</td><td>female</td><td>2008</td><td>128</td><td>NA</td><td>3650</td></tr>\n",
       "\t<tr><td>Chinstrap</td><td>45.5</td><td>17.0</td><td>196</td><td>female</td><td>2008</td><td>129</td><td>NA</td><td>3500</td></tr>\n",
       "\t<tr><td>Chinstrap</td><td>50.9</td><td>17.9</td><td>196</td><td>female</td><td>2009</td><td>130</td><td>NA</td><td>3675</td></tr>\n",
       "\t<tr><td>Chinstrap</td><td>50.1</td><td>17.9</td><td>190</td><td>female</td><td>2009</td><td>131</td><td>NA</td><td>3400</td></tr>\n",
       "\t<tr><td>Chinstrap</td><td>49.8</td><td>17.3</td><td>198</td><td>female</td><td>2009</td><td>132</td><td>NA</td><td>3675</td></tr>\n",
       "\t<tr><td>Chinstrap</td><td>48.1</td><td>16.4</td><td>199</td><td>female</td><td>2009</td><td>133</td><td>NA</td><td>3325</td></tr>\n",
       "\t<tr><td>Chinstrap</td><td>45.7</td><td>17.3</td><td>193</td><td>female</td><td>2009</td><td>134</td><td>NA</td><td>3600</td></tr>\n",
       "\t<tr><td>Chinstrap</td><td>42.5</td><td>17.3</td><td>187</td><td>female</td><td>2009</td><td>135</td><td>NA</td><td>3350</td></tr>\n",
       "\t<tr><td>Chinstrap</td><td>45.2</td><td>16.6</td><td>191</td><td>female</td><td>2009</td><td>136</td><td>NA</td><td>3250</td></tr>\n",
       "\t<tr><td>Chinstrap</td><td>45.6</td><td>19.4</td><td>194</td><td>female</td><td>2009</td><td>137</td><td>NA</td><td>3525</td></tr>\n",
       "\t<tr><td>Chinstrap</td><td>46.8</td><td>16.5</td><td>189</td><td>female</td><td>2009</td><td>138</td><td>NA</td><td>3650</td></tr>\n",
       "\t<tr><td>Chinstrap</td><td>45.7</td><td>17.0</td><td>195</td><td>female</td><td>2009</td><td>139</td><td>NA</td><td>3650</td></tr>\n",
       "\t<tr><td>Chinstrap</td><td>43.5</td><td>18.1</td><td>202</td><td>female</td><td>2009</td><td>140</td><td>NA</td><td>3400</td></tr>\n",
       "\t<tr><td>Chinstrap</td><td>50.2</td><td>18.7</td><td>198</td><td>female</td><td>2009</td><td>141</td><td>NA</td><td>3775</td></tr>\n",
       "</tbody>\n",
       "</table>\n"
      ],
      "text/latex": [
       "A tibble: 141 × 9\n",
       "\\begin{tabular}{lllllllll}\n",
       " species & bill\\_length\\_mm & bill\\_depth\\_mm & flipper\\_length\\_mm & sex & year & id\\_pinguinas & Biscoe & Dream\\\\\n",
       " <fct> & <dbl> & <dbl> & <int> & <fct> & <int> & <int> & <int> & <int>\\\\\n",
       "\\hline\n",
       "\t Adelie & 37.8 & 18.3 & 174 & female & 2007 &  1 & 3400 &   NA\\\\\n",
       "\t Adelie & 35.9 & 19.2 & 189 & female & 2007 &  2 & 3800 &   NA\\\\\n",
       "\t Adelie & 35.3 & 18.9 & 187 & female & 2007 &  3 & 3800 &   NA\\\\\n",
       "\t Adelie & 40.5 & 17.9 & 187 & female & 2007 &  4 & 3200 &   NA\\\\\n",
       "\t Adelie & 37.9 & 18.6 & 172 & female & 2007 &  5 & 3150 &   NA\\\\\n",
       "\t Adelie & 39.5 & 16.7 & 178 & female & 2007 &  6 &   NA & 3250\\\\\n",
       "\t Adelie & 39.5 & 17.8 & 188 & female & 2007 &  7 &   NA & 3300\\\\\n",
       "\t Adelie & 36.4 & 17.0 & 195 & female & 2007 &  8 &   NA & 3325\\\\\n",
       "\t Adelie & 42.2 & 18.5 & 180 & female & 2007 &  9 &   NA & 3550\\\\\n",
       "\t Adelie & 37.6 & 19.3 & 181 & female & 2007 & 10 &   NA & 3300\\\\\n",
       "\t Adelie & 36.5 & 18.0 & 182 & female & 2007 & 11 &   NA & 3150\\\\\n",
       "\t Adelie & 36.0 & 18.5 & 186 & female & 2007 & 12 &   NA & 3100\\\\\n",
       "\t Adelie & 37.0 & 16.9 & 185 & female & 2007 & 13 &   NA & 3000\\\\\n",
       "\t Adelie & 36.0 & 17.9 & 190 & female & 2007 & 14 &   NA & 3450\\\\\n",
       "\t Adelie & 39.6 & 17.7 & 186 & female & 2008 & 15 & 3500 &   NA\\\\\n",
       "\t Adelie & 35.0 & 17.9 & 190 & female & 2008 & 16 & 3450 &   NA\\\\\n",
       "\t Adelie & 34.5 & 18.1 & 187 & female & 2008 & 17 & 2900 &   NA\\\\\n",
       "\t Adelie & 39.0 & 17.5 & 186 & female & 2008 & 18 & 3550 &   NA\\\\\n",
       "\t Adelie & 36.5 & 16.6 & 181 & female & 2008 & 19 & 2850 &   NA\\\\\n",
       "\t Adelie & 35.7 & 16.9 & 185 & female & 2008 & 20 & 3150 &   NA\\\\\n",
       "\t Adelie & 37.6 & 17.0 & 185 & female & 2008 & 21 & 3600 &   NA\\\\\n",
       "\t Adelie & 36.4 & 17.1 & 184 & female & 2008 & 22 & 2850 &   NA\\\\\n",
       "\t Adelie & 35.5 & 16.2 & 195 & female & 2008 & 23 & 3350 &   NA\\\\\n",
       "\t Adelie & 37.3 & 17.8 & 191 & female & 2008 & 24 &   NA & 3350\\\\\n",
       "\t Adelie & 36.9 & 18.6 & 189 & female & 2008 & 25 &   NA & 3500\\\\\n",
       "\t Adelie & 38.9 & 18.8 & 190 & female & 2008 & 26 &   NA & 3600\\\\\n",
       "\t Adelie & 35.7 & 18.0 & 202 & female & 2008 & 27 &   NA & 3550\\\\\n",
       "\t Adelie & 34.0 & 17.1 & 185 & female & 2008 & 28 &   NA & 3400\\\\\n",
       "\t Adelie & 36.2 & 17.3 & 187 & female & 2008 & 29 &   NA & 3300\\\\\n",
       "\t Adelie & 38.1 & 18.6 & 190 & female & 2008 & 30 &   NA & 3700\\\\\n",
       "\t ⋮ & ⋮ & ⋮ & ⋮ & ⋮ & ⋮ & ⋮ & ⋮ & ⋮\\\\\n",
       "\t Chinstrap & 46.0 & 18.9 & 195 & female & 2007 & 112 & NA & 4150\\\\\n",
       "\t Chinstrap & 46.6 & 17.8 & 193 & female & 2007 & 113 & NA & 3800\\\\\n",
       "\t Chinstrap & 47.0 & 17.3 & 185 & female & 2007 & 114 & NA & 3700\\\\\n",
       "\t Chinstrap & 45.9 & 17.1 & 190 & female & 2007 & 115 & NA & 3575\\\\\n",
       "\t Chinstrap & 58.0 & 17.8 & 181 & female & 2007 & 116 & NA & 3700\\\\\n",
       "\t Chinstrap & 46.4 & 18.6 & 190 & female & 2007 & 117 & NA & 3450\\\\\n",
       "\t Chinstrap & 42.4 & 17.3 & 181 & female & 2007 & 118 & NA & 3600\\\\\n",
       "\t Chinstrap & 43.2 & 16.6 & 187 & female & 2007 & 119 & NA & 2900\\\\\n",
       "\t Chinstrap & 46.7 & 17.9 & 195 & female & 2007 & 120 & NA & 3300\\\\\n",
       "\t Chinstrap & 50.5 & 18.4 & 200 & female & 2008 & 121 & NA & 3400\\\\\n",
       "\t Chinstrap & 46.4 & 17.8 & 191 & female & 2008 & 122 & NA & 3700\\\\\n",
       "\t Chinstrap & 40.9 & 16.6 & 187 & female & 2008 & 123 & NA & 3200\\\\\n",
       "\t Chinstrap & 42.5 & 16.7 & 187 & female & 2008 & 124 & NA & 3350\\\\\n",
       "\t Chinstrap & 47.5 & 16.8 & 199 & female & 2008 & 125 & NA & 3900\\\\\n",
       "\t Chinstrap & 47.6 & 18.3 & 195 & female & 2008 & 126 & NA & 3850\\\\\n",
       "\t Chinstrap & 46.9 & 16.6 & 192 & female & 2008 & 127 & NA & 2700\\\\\n",
       "\t Chinstrap & 46.2 & 17.5 & 187 & female & 2008 & 128 & NA & 3650\\\\\n",
       "\t Chinstrap & 45.5 & 17.0 & 196 & female & 2008 & 129 & NA & 3500\\\\\n",
       "\t Chinstrap & 50.9 & 17.9 & 196 & female & 2009 & 130 & NA & 3675\\\\\n",
       "\t Chinstrap & 50.1 & 17.9 & 190 & female & 2009 & 131 & NA & 3400\\\\\n",
       "\t Chinstrap & 49.8 & 17.3 & 198 & female & 2009 & 132 & NA & 3675\\\\\n",
       "\t Chinstrap & 48.1 & 16.4 & 199 & female & 2009 & 133 & NA & 3325\\\\\n",
       "\t Chinstrap & 45.7 & 17.3 & 193 & female & 2009 & 134 & NA & 3600\\\\\n",
       "\t Chinstrap & 42.5 & 17.3 & 187 & female & 2009 & 135 & NA & 3350\\\\\n",
       "\t Chinstrap & 45.2 & 16.6 & 191 & female & 2009 & 136 & NA & 3250\\\\\n",
       "\t Chinstrap & 45.6 & 19.4 & 194 & female & 2009 & 137 & NA & 3525\\\\\n",
       "\t Chinstrap & 46.8 & 16.5 & 189 & female & 2009 & 138 & NA & 3650\\\\\n",
       "\t Chinstrap & 45.7 & 17.0 & 195 & female & 2009 & 139 & NA & 3650\\\\\n",
       "\t Chinstrap & 43.5 & 18.1 & 202 & female & 2009 & 140 & NA & 3400\\\\\n",
       "\t Chinstrap & 50.2 & 18.7 & 198 & female & 2009 & 141 & NA & 3775\\\\\n",
       "\\end{tabular}\n"
      ],
      "text/markdown": [
       "\n",
       "A tibble: 141 × 9\n",
       "\n",
       "| species &lt;fct&gt; | bill_length_mm &lt;dbl&gt; | bill_depth_mm &lt;dbl&gt; | flipper_length_mm &lt;int&gt; | sex &lt;fct&gt; | year &lt;int&gt; | id_pinguinas &lt;int&gt; | Biscoe &lt;int&gt; | Dream &lt;int&gt; |\n",
       "|---|---|---|---|---|---|---|---|---|\n",
       "| Adelie | 37.8 | 18.3 | 174 | female | 2007 |  1 | 3400 |   NA |\n",
       "| Adelie | 35.9 | 19.2 | 189 | female | 2007 |  2 | 3800 |   NA |\n",
       "| Adelie | 35.3 | 18.9 | 187 | female | 2007 |  3 | 3800 |   NA |\n",
       "| Adelie | 40.5 | 17.9 | 187 | female | 2007 |  4 | 3200 |   NA |\n",
       "| Adelie | 37.9 | 18.6 | 172 | female | 2007 |  5 | 3150 |   NA |\n",
       "| Adelie | 39.5 | 16.7 | 178 | female | 2007 |  6 |   NA | 3250 |\n",
       "| Adelie | 39.5 | 17.8 | 188 | female | 2007 |  7 |   NA | 3300 |\n",
       "| Adelie | 36.4 | 17.0 | 195 | female | 2007 |  8 |   NA | 3325 |\n",
       "| Adelie | 42.2 | 18.5 | 180 | female | 2007 |  9 |   NA | 3550 |\n",
       "| Adelie | 37.6 | 19.3 | 181 | female | 2007 | 10 |   NA | 3300 |\n",
       "| Adelie | 36.5 | 18.0 | 182 | female | 2007 | 11 |   NA | 3150 |\n",
       "| Adelie | 36.0 | 18.5 | 186 | female | 2007 | 12 |   NA | 3100 |\n",
       "| Adelie | 37.0 | 16.9 | 185 | female | 2007 | 13 |   NA | 3000 |\n",
       "| Adelie | 36.0 | 17.9 | 190 | female | 2007 | 14 |   NA | 3450 |\n",
       "| Adelie | 39.6 | 17.7 | 186 | female | 2008 | 15 | 3500 |   NA |\n",
       "| Adelie | 35.0 | 17.9 | 190 | female | 2008 | 16 | 3450 |   NA |\n",
       "| Adelie | 34.5 | 18.1 | 187 | female | 2008 | 17 | 2900 |   NA |\n",
       "| Adelie | 39.0 | 17.5 | 186 | female | 2008 | 18 | 3550 |   NA |\n",
       "| Adelie | 36.5 | 16.6 | 181 | female | 2008 | 19 | 2850 |   NA |\n",
       "| Adelie | 35.7 | 16.9 | 185 | female | 2008 | 20 | 3150 |   NA |\n",
       "| Adelie | 37.6 | 17.0 | 185 | female | 2008 | 21 | 3600 |   NA |\n",
       "| Adelie | 36.4 | 17.1 | 184 | female | 2008 | 22 | 2850 |   NA |\n",
       "| Adelie | 35.5 | 16.2 | 195 | female | 2008 | 23 | 3350 |   NA |\n",
       "| Adelie | 37.3 | 17.8 | 191 | female | 2008 | 24 |   NA | 3350 |\n",
       "| Adelie | 36.9 | 18.6 | 189 | female | 2008 | 25 |   NA | 3500 |\n",
       "| Adelie | 38.9 | 18.8 | 190 | female | 2008 | 26 |   NA | 3600 |\n",
       "| Adelie | 35.7 | 18.0 | 202 | female | 2008 | 27 |   NA | 3550 |\n",
       "| Adelie | 34.0 | 17.1 | 185 | female | 2008 | 28 |   NA | 3400 |\n",
       "| Adelie | 36.2 | 17.3 | 187 | female | 2008 | 29 |   NA | 3300 |\n",
       "| Adelie | 38.1 | 18.6 | 190 | female | 2008 | 30 |   NA | 3700 |\n",
       "| ⋮ | ⋮ | ⋮ | ⋮ | ⋮ | ⋮ | ⋮ | ⋮ | ⋮ |\n",
       "| Chinstrap | 46.0 | 18.9 | 195 | female | 2007 | 112 | NA | 4150 |\n",
       "| Chinstrap | 46.6 | 17.8 | 193 | female | 2007 | 113 | NA | 3800 |\n",
       "| Chinstrap | 47.0 | 17.3 | 185 | female | 2007 | 114 | NA | 3700 |\n",
       "| Chinstrap | 45.9 | 17.1 | 190 | female | 2007 | 115 | NA | 3575 |\n",
       "| Chinstrap | 58.0 | 17.8 | 181 | female | 2007 | 116 | NA | 3700 |\n",
       "| Chinstrap | 46.4 | 18.6 | 190 | female | 2007 | 117 | NA | 3450 |\n",
       "| Chinstrap | 42.4 | 17.3 | 181 | female | 2007 | 118 | NA | 3600 |\n",
       "| Chinstrap | 43.2 | 16.6 | 187 | female | 2007 | 119 | NA | 2900 |\n",
       "| Chinstrap | 46.7 | 17.9 | 195 | female | 2007 | 120 | NA | 3300 |\n",
       "| Chinstrap | 50.5 | 18.4 | 200 | female | 2008 | 121 | NA | 3400 |\n",
       "| Chinstrap | 46.4 | 17.8 | 191 | female | 2008 | 122 | NA | 3700 |\n",
       "| Chinstrap | 40.9 | 16.6 | 187 | female | 2008 | 123 | NA | 3200 |\n",
       "| Chinstrap | 42.5 | 16.7 | 187 | female | 2008 | 124 | NA | 3350 |\n",
       "| Chinstrap | 47.5 | 16.8 | 199 | female | 2008 | 125 | NA | 3900 |\n",
       "| Chinstrap | 47.6 | 18.3 | 195 | female | 2008 | 126 | NA | 3850 |\n",
       "| Chinstrap | 46.9 | 16.6 | 192 | female | 2008 | 127 | NA | 2700 |\n",
       "| Chinstrap | 46.2 | 17.5 | 187 | female | 2008 | 128 | NA | 3650 |\n",
       "| Chinstrap | 45.5 | 17.0 | 196 | female | 2008 | 129 | NA | 3500 |\n",
       "| Chinstrap | 50.9 | 17.9 | 196 | female | 2009 | 130 | NA | 3675 |\n",
       "| Chinstrap | 50.1 | 17.9 | 190 | female | 2009 | 131 | NA | 3400 |\n",
       "| Chinstrap | 49.8 | 17.3 | 198 | female | 2009 | 132 | NA | 3675 |\n",
       "| Chinstrap | 48.1 | 16.4 | 199 | female | 2009 | 133 | NA | 3325 |\n",
       "| Chinstrap | 45.7 | 17.3 | 193 | female | 2009 | 134 | NA | 3600 |\n",
       "| Chinstrap | 42.5 | 17.3 | 187 | female | 2009 | 135 | NA | 3350 |\n",
       "| Chinstrap | 45.2 | 16.6 | 191 | female | 2009 | 136 | NA | 3250 |\n",
       "| Chinstrap | 45.6 | 19.4 | 194 | female | 2009 | 137 | NA | 3525 |\n",
       "| Chinstrap | 46.8 | 16.5 | 189 | female | 2009 | 138 | NA | 3650 |\n",
       "| Chinstrap | 45.7 | 17.0 | 195 | female | 2009 | 139 | NA | 3650 |\n",
       "| Chinstrap | 43.5 | 18.1 | 202 | female | 2009 | 140 | NA | 3400 |\n",
       "| Chinstrap | 50.2 | 18.7 | 198 | female | 2009 | 141 | NA | 3775 |\n",
       "\n"
      ],
      "text/plain": [
       "    species   bill_length_mm bill_depth_mm flipper_length_mm sex    year\n",
       "1   Adelie    37.8           18.3          174               female 2007\n",
       "2   Adelie    35.9           19.2          189               female 2007\n",
       "3   Adelie    35.3           18.9          187               female 2007\n",
       "4   Adelie    40.5           17.9          187               female 2007\n",
       "5   Adelie    37.9           18.6          172               female 2007\n",
       "6   Adelie    39.5           16.7          178               female 2007\n",
       "7   Adelie    39.5           17.8          188               female 2007\n",
       "8   Adelie    36.4           17.0          195               female 2007\n",
       "9   Adelie    42.2           18.5          180               female 2007\n",
       "10  Adelie    37.6           19.3          181               female 2007\n",
       "11  Adelie    36.5           18.0          182               female 2007\n",
       "12  Adelie    36.0           18.5          186               female 2007\n",
       "13  Adelie    37.0           16.9          185               female 2007\n",
       "14  Adelie    36.0           17.9          190               female 2007\n",
       "15  Adelie    39.6           17.7          186               female 2008\n",
       "16  Adelie    35.0           17.9          190               female 2008\n",
       "17  Adelie    34.5           18.1          187               female 2008\n",
       "18  Adelie    39.0           17.5          186               female 2008\n",
       "19  Adelie    36.5           16.6          181               female 2008\n",
       "20  Adelie    35.7           16.9          185               female 2008\n",
       "21  Adelie    37.6           17.0          185               female 2008\n",
       "22  Adelie    36.4           17.1          184               female 2008\n",
       "23  Adelie    35.5           16.2          195               female 2008\n",
       "24  Adelie    37.3           17.8          191               female 2008\n",
       "25  Adelie    36.9           18.6          189               female 2008\n",
       "26  Adelie    38.9           18.8          190               female 2008\n",
       "27  Adelie    35.7           18.0          202               female 2008\n",
       "28  Adelie    34.0           17.1          185               female 2008\n",
       "29  Adelie    36.2           17.3          187               female 2008\n",
       "30  Adelie    38.1           18.6          190               female 2008\n",
       "⋮   ⋮         ⋮              ⋮             ⋮                 ⋮      ⋮   \n",
       "112 Chinstrap 46.0           18.9          195               female 2007\n",
       "113 Chinstrap 46.6           17.8          193               female 2007\n",
       "114 Chinstrap 47.0           17.3          185               female 2007\n",
       "115 Chinstrap 45.9           17.1          190               female 2007\n",
       "116 Chinstrap 58.0           17.8          181               female 2007\n",
       "117 Chinstrap 46.4           18.6          190               female 2007\n",
       "118 Chinstrap 42.4           17.3          181               female 2007\n",
       "119 Chinstrap 43.2           16.6          187               female 2007\n",
       "120 Chinstrap 46.7           17.9          195               female 2007\n",
       "121 Chinstrap 50.5           18.4          200               female 2008\n",
       "122 Chinstrap 46.4           17.8          191               female 2008\n",
       "123 Chinstrap 40.9           16.6          187               female 2008\n",
       "124 Chinstrap 42.5           16.7          187               female 2008\n",
       "125 Chinstrap 47.5           16.8          199               female 2008\n",
       "126 Chinstrap 47.6           18.3          195               female 2008\n",
       "127 Chinstrap 46.9           16.6          192               female 2008\n",
       "128 Chinstrap 46.2           17.5          187               female 2008\n",
       "129 Chinstrap 45.5           17.0          196               female 2008\n",
       "130 Chinstrap 50.9           17.9          196               female 2009\n",
       "131 Chinstrap 50.1           17.9          190               female 2009\n",
       "132 Chinstrap 49.8           17.3          198               female 2009\n",
       "133 Chinstrap 48.1           16.4          199               female 2009\n",
       "134 Chinstrap 45.7           17.3          193               female 2009\n",
       "135 Chinstrap 42.5           17.3          187               female 2009\n",
       "136 Chinstrap 45.2           16.6          191               female 2009\n",
       "137 Chinstrap 45.6           19.4          194               female 2009\n",
       "138 Chinstrap 46.8           16.5          189               female 2009\n",
       "139 Chinstrap 45.7           17.0          195               female 2009\n",
       "140 Chinstrap 43.5           18.1          202               female 2009\n",
       "141 Chinstrap 50.2           18.7          198               female 2009\n",
       "    id_pinguinas Biscoe Dream\n",
       "1    1           3400     NA \n",
       "2    2           3800     NA \n",
       "3    3           3800     NA \n",
       "4    4           3200     NA \n",
       "5    5           3150     NA \n",
       "6    6             NA   3250 \n",
       "7    7             NA   3300 \n",
       "8    8             NA   3325 \n",
       "9    9             NA   3550 \n",
       "10  10             NA   3300 \n",
       "11  11             NA   3150 \n",
       "12  12             NA   3100 \n",
       "13  13             NA   3000 \n",
       "14  14             NA   3450 \n",
       "15  15           3500     NA \n",
       "16  16           3450     NA \n",
       "17  17           2900     NA \n",
       "18  18           3550     NA \n",
       "19  19           2850     NA \n",
       "20  20           3150     NA \n",
       "21  21           3600     NA \n",
       "22  22           2850     NA \n",
       "23  23           3350     NA \n",
       "24  24             NA   3350 \n",
       "25  25             NA   3500 \n",
       "26  26             NA   3600 \n",
       "27  27             NA   3550 \n",
       "28  28             NA   3400 \n",
       "29  29             NA   3300 \n",
       "30  30             NA   3700 \n",
       "⋮   ⋮            ⋮      ⋮    \n",
       "112 112          NA     4150 \n",
       "113 113          NA     3800 \n",
       "114 114          NA     3700 \n",
       "115 115          NA     3575 \n",
       "116 116          NA     3700 \n",
       "117 117          NA     3450 \n",
       "118 118          NA     3600 \n",
       "119 119          NA     2900 \n",
       "120 120          NA     3300 \n",
       "121 121          NA     3400 \n",
       "122 122          NA     3700 \n",
       "123 123          NA     3200 \n",
       "124 124          NA     3350 \n",
       "125 125          NA     3900 \n",
       "126 126          NA     3850 \n",
       "127 127          NA     2700 \n",
       "128 128          NA     3650 \n",
       "129 129          NA     3500 \n",
       "130 130          NA     3675 \n",
       "131 131          NA     3400 \n",
       "132 132          NA     3675 \n",
       "133 133          NA     3325 \n",
       "134 134          NA     3600 \n",
       "135 135          NA     3350 \n",
       "136 136          NA     3250 \n",
       "137 137          NA     3525 \n",
       "138 138          NA     3650 \n",
       "139 139          NA     3650 \n",
       "140 140          NA     3400 \n",
       "141 141          NA     3775 "
      ]
     },
     "metadata": {},
     "output_type": "display_data"
    }
   ],
   "source": [
    "penguins %>% \n",
    "  filter(island %in% c(\"Biscoe\", \"Dream\") & sex == \"female\") %>%\n",
    "  mutate(id_pinguinas = row_number()) %>%\n",
    "  pivot_wider(names_from = island, values_from = body_mass_g)\n"
   ]
  },
  {
   "cell_type": "code",
   "execution_count": null,
   "metadata": {},
   "outputs": [],
   "source": []
  }
 ],
 "metadata": {
  "kernelspec": {
   "display_name": "R",
   "language": "R",
   "name": "ir"
  },
  "language_info": {
   "codemirror_mode": "r",
   "file_extension": ".r",
   "mimetype": "text/x-r-source",
   "name": "R",
   "pygments_lexer": "r",
   "version": "4.1.3"
  }
 },
 "nbformat": 4,
 "nbformat_minor": 5
}
