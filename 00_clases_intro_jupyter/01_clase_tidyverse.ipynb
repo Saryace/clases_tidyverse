{
 "cells": [
  {
   "cell_type": "markdown",
   "metadata": {},
   "source": [
    "# Introducción a Tidyverse\n",
    "\n",
    "Este Jupyter Notebook será la intro al paquete tidyverse. Usaremos un dataset sencillo y nos centraremos en las funciones más importantes. Lo primero es instalar el paquete:"
   ]
  },
  {
   "cell_type": "code",
   "execution_count": 2,
   "metadata": {},
   "outputs": [
    {
     "name": "stderr",
     "output_type": "stream",
     "text": [
      "Installing packages into ‘/usr/local/lib/R/4.1/site-library’\n",
      "(as ‘lib’ is unspecified)\n",
      "\n"
     ]
    }
   ],
   "source": [
    "install.packages(c(\"tidyverse\",\"palmerpenguins\"))\n"
   ]
  },
  {
   "cell_type": "markdown",
   "metadata": {},
   "source": [
    "La instalación se realiza solo una vez. Con la función `library` la llamamos:"
   ]
  },
  {
   "cell_type": "code",
   "execution_count": 3,
   "metadata": {},
   "outputs": [
    {
     "name": "stderr",
     "output_type": "stream",
     "text": [
      "── \u001b[1mAttaching packages\u001b[22m ─────────────────────────────────────── tidyverse 1.3.1 ──\n",
      "\n",
      "\u001b[32m✔\u001b[39m \u001b[34mggplot2\u001b[39m 3.3.5     \u001b[32m✔\u001b[39m \u001b[34mpurrr  \u001b[39m 0.3.4\n",
      "\u001b[32m✔\u001b[39m \u001b[34mtibble \u001b[39m 3.1.6     \u001b[32m✔\u001b[39m \u001b[34mdplyr  \u001b[39m 1.0.8\n",
      "\u001b[32m✔\u001b[39m \u001b[34mtidyr  \u001b[39m 1.2.0     \u001b[32m✔\u001b[39m \u001b[34mstringr\u001b[39m 1.4.0\n",
      "\u001b[32m✔\u001b[39m \u001b[34mreadr  \u001b[39m 2.1.2     \u001b[32m✔\u001b[39m \u001b[34mforcats\u001b[39m 0.5.1\n",
      "\n",
      "── \u001b[1mConflicts\u001b[22m ────────────────────────────────────────── tidyverse_conflicts() ──\n",
      "\u001b[31m✖\u001b[39m \u001b[34mdplyr\u001b[39m::\u001b[32mfilter()\u001b[39m masks \u001b[34mstats\u001b[39m::filter()\n",
      "\u001b[31m✖\u001b[39m \u001b[34mdplyr\u001b[39m::\u001b[32mlag()\u001b[39m    masks \u001b[34mstats\u001b[39m::lag()\n",
      "\n"
     ]
    }
   ],
   "source": [
    "library(tidyverse) # cargamos las librerias\n",
    "library(palmerpenguins)"
   ]
  },
  {
   "cell_type": "markdown",
   "metadata": {},
   "source": [
    "La función `data` nos deja cargar datasets de los paquetes, en este caso el dataset `penguins`"
   ]
  },
  {
   "cell_type": "code",
   "execution_count": 20,
   "metadata": {},
   "outputs": [],
   "source": [
    "data(package = 'palmerpenguins')"
   ]
  },
  {
   "cell_type": "markdown",
   "metadata": {},
   "source": [
    "\n",
    "## 1) Echar un vistazo\n",
    "\n",
    "Lo primero antes de trabajar con un dataset es darle un primer vistazo. Funciones útiles para esto son `glimpse`, `head`, y `tail`"
   ]
  },
  {
   "cell_type": "code",
   "execution_count": 21,
   "metadata": {},
   "outputs": [
    {
     "name": "stdout",
     "output_type": "stream",
     "text": [
      "Rows: 344\n",
      "Columns: 8\n",
      "$ species           \u001b[3m\u001b[90m<fct>\u001b[39m\u001b[23m Adelie, Adelie, Adelie, Adelie, Adelie, Adelie, Adel…\n",
      "$ island            \u001b[3m\u001b[90m<fct>\u001b[39m\u001b[23m Torgersen, Torgersen, Torgersen, Torgersen, Torgerse…\n",
      "$ bill_length_mm    \u001b[3m\u001b[90m<dbl>\u001b[39m\u001b[23m 39.1, 39.5, 40.3, NA, 36.7, 39.3, 38.9, 39.2, 34.1, …\n",
      "$ bill_depth_mm     \u001b[3m\u001b[90m<dbl>\u001b[39m\u001b[23m 18.7, 17.4, 18.0, NA, 19.3, 20.6, 17.8, 19.6, 18.1, …\n",
      "$ flipper_length_mm \u001b[3m\u001b[90m<int>\u001b[39m\u001b[23m 181, 186, 195, NA, 193, 190, 181, 195, 193, 190, 186…\n",
      "$ body_mass_g       \u001b[3m\u001b[90m<int>\u001b[39m\u001b[23m 3750, 3800, 3250, NA, 3450, 3650, 3625, 4675, 3475, …\n",
      "$ sex               \u001b[3m\u001b[90m<fct>\u001b[39m\u001b[23m male, female, female, NA, female, male, female, male…\n",
      "$ year              \u001b[3m\u001b[90m<int>\u001b[39m\u001b[23m 2007, 2007, 2007, 2007, 2007, 2007, 2007, 2007, 2007…\n"
     ]
    }
   ],
   "source": [
    "glimpse(penguins)"
   ]
  },
  {
   "cell_type": "markdown",
   "metadata": {},
   "source": [
    "`glimpse` nos da información sobre el tipo de datos:\n",
    "\n",
    "* logical vectors <lgl> contiene TRUE o FALSE\n",
    "* integer vectors <int> contiene enteros\n",
    "* double vectors <dbl> contiene números reales\n",
    "* character vector <chr> contiene strings (\"\") \n",
    "* factors <fct>, representan variables categóricas determinadas (llamadas levels)"
   ]
  },
  {
   "cell_type": "code",
   "execution_count": 22,
   "metadata": {},
   "outputs": [
    {
     "data": {
      "text/html": [
       "<table class=\"dataframe\">\n",
       "<caption>A tibble: 6 × 8</caption>\n",
       "<thead>\n",
       "\t<tr><th scope=col>species</th><th scope=col>island</th><th scope=col>bill_length_mm</th><th scope=col>bill_depth_mm</th><th scope=col>flipper_length_mm</th><th scope=col>body_mass_g</th><th scope=col>sex</th><th scope=col>year</th></tr>\n",
       "\t<tr><th scope=col>&lt;fct&gt;</th><th scope=col>&lt;fct&gt;</th><th scope=col>&lt;dbl&gt;</th><th scope=col>&lt;dbl&gt;</th><th scope=col>&lt;int&gt;</th><th scope=col>&lt;int&gt;</th><th scope=col>&lt;fct&gt;</th><th scope=col>&lt;int&gt;</th></tr>\n",
       "</thead>\n",
       "<tbody>\n",
       "\t<tr><td>Adelie</td><td>Torgersen</td><td>39.1</td><td>18.7</td><td>181</td><td>3750</td><td>male  </td><td>2007</td></tr>\n",
       "\t<tr><td>Adelie</td><td>Torgersen</td><td>39.5</td><td>17.4</td><td>186</td><td>3800</td><td>female</td><td>2007</td></tr>\n",
       "\t<tr><td>Adelie</td><td>Torgersen</td><td>40.3</td><td>18.0</td><td>195</td><td>3250</td><td>female</td><td>2007</td></tr>\n",
       "\t<tr><td>Adelie</td><td>Torgersen</td><td>  NA</td><td>  NA</td><td> NA</td><td>  NA</td><td>NA    </td><td>2007</td></tr>\n",
       "\t<tr><td>Adelie</td><td>Torgersen</td><td>36.7</td><td>19.3</td><td>193</td><td>3450</td><td>female</td><td>2007</td></tr>\n",
       "\t<tr><td>Adelie</td><td>Torgersen</td><td>39.3</td><td>20.6</td><td>190</td><td>3650</td><td>male  </td><td>2007</td></tr>\n",
       "</tbody>\n",
       "</table>\n"
      ],
      "text/latex": [
       "A tibble: 6 × 8\n",
       "\\begin{tabular}{llllllll}\n",
       " species & island & bill\\_length\\_mm & bill\\_depth\\_mm & flipper\\_length\\_mm & body\\_mass\\_g & sex & year\\\\\n",
       " <fct> & <fct> & <dbl> & <dbl> & <int> & <int> & <fct> & <int>\\\\\n",
       "\\hline\n",
       "\t Adelie & Torgersen & 39.1 & 18.7 & 181 & 3750 & male   & 2007\\\\\n",
       "\t Adelie & Torgersen & 39.5 & 17.4 & 186 & 3800 & female & 2007\\\\\n",
       "\t Adelie & Torgersen & 40.3 & 18.0 & 195 & 3250 & female & 2007\\\\\n",
       "\t Adelie & Torgersen &   NA &   NA &  NA &   NA & NA     & 2007\\\\\n",
       "\t Adelie & Torgersen & 36.7 & 19.3 & 193 & 3450 & female & 2007\\\\\n",
       "\t Adelie & Torgersen & 39.3 & 20.6 & 190 & 3650 & male   & 2007\\\\\n",
       "\\end{tabular}\n"
      ],
      "text/markdown": [
       "\n",
       "A tibble: 6 × 8\n",
       "\n",
       "| species &lt;fct&gt; | island &lt;fct&gt; | bill_length_mm &lt;dbl&gt; | bill_depth_mm &lt;dbl&gt; | flipper_length_mm &lt;int&gt; | body_mass_g &lt;int&gt; | sex &lt;fct&gt; | year &lt;int&gt; |\n",
       "|---|---|---|---|---|---|---|---|\n",
       "| Adelie | Torgersen | 39.1 | 18.7 | 181 | 3750 | male   | 2007 |\n",
       "| Adelie | Torgersen | 39.5 | 17.4 | 186 | 3800 | female | 2007 |\n",
       "| Adelie | Torgersen | 40.3 | 18.0 | 195 | 3250 | female | 2007 |\n",
       "| Adelie | Torgersen |   NA |   NA |  NA |   NA | NA     | 2007 |\n",
       "| Adelie | Torgersen | 36.7 | 19.3 | 193 | 3450 | female | 2007 |\n",
       "| Adelie | Torgersen | 39.3 | 20.6 | 190 | 3650 | male   | 2007 |\n",
       "\n"
      ],
      "text/plain": [
       "  species island    bill_length_mm bill_depth_mm flipper_length_mm body_mass_g\n",
       "1 Adelie  Torgersen 39.1           18.7          181               3750       \n",
       "2 Adelie  Torgersen 39.5           17.4          186               3800       \n",
       "3 Adelie  Torgersen 40.3           18.0          195               3250       \n",
       "4 Adelie  Torgersen   NA             NA           NA                 NA       \n",
       "5 Adelie  Torgersen 36.7           19.3          193               3450       \n",
       "6 Adelie  Torgersen 39.3           20.6          190               3650       \n",
       "  sex    year\n",
       "1 male   2007\n",
       "2 female 2007\n",
       "3 female 2007\n",
       "4 NA     2007\n",
       "5 female 2007\n",
       "6 male   2007"
      ]
     },
     "metadata": {},
     "output_type": "display_data"
    }
   ],
   "source": [
    "head(penguins)"
   ]
  },
  {
   "cell_type": "markdown",
   "metadata": {},
   "source": [
    "`head` nos entrega las primeras filas y `tail` las últimas"
   ]
  },
  {
   "cell_type": "markdown",
   "metadata": {},
   "source": [
    "`head`, y `tail` son funciones que tienen argumentos. En este caso `n = número de filas por mostrar`"
   ]
  },
  {
   "cell_type": "code",
   "execution_count": 23,
   "metadata": {},
   "outputs": [
    {
     "data": {
      "text/html": [
       "<table class=\"dataframe\">\n",
       "<caption>A tibble: 3 × 8</caption>\n",
       "<thead>\n",
       "\t<tr><th scope=col>species</th><th scope=col>island</th><th scope=col>bill_length_mm</th><th scope=col>bill_depth_mm</th><th scope=col>flipper_length_mm</th><th scope=col>body_mass_g</th><th scope=col>sex</th><th scope=col>year</th></tr>\n",
       "\t<tr><th scope=col>&lt;fct&gt;</th><th scope=col>&lt;fct&gt;</th><th scope=col>&lt;dbl&gt;</th><th scope=col>&lt;dbl&gt;</th><th scope=col>&lt;int&gt;</th><th scope=col>&lt;int&gt;</th><th scope=col>&lt;fct&gt;</th><th scope=col>&lt;int&gt;</th></tr>\n",
       "</thead>\n",
       "<tbody>\n",
       "\t<tr><td>Chinstrap</td><td>Dream</td><td>49.6</td><td>18.2</td><td>193</td><td>3775</td><td>male  </td><td>2009</td></tr>\n",
       "\t<tr><td>Chinstrap</td><td>Dream</td><td>50.8</td><td>19.0</td><td>210</td><td>4100</td><td>male  </td><td>2009</td></tr>\n",
       "\t<tr><td>Chinstrap</td><td>Dream</td><td>50.2</td><td>18.7</td><td>198</td><td>3775</td><td>female</td><td>2009</td></tr>\n",
       "</tbody>\n",
       "</table>\n"
      ],
      "text/latex": [
       "A tibble: 3 × 8\n",
       "\\begin{tabular}{llllllll}\n",
       " species & island & bill\\_length\\_mm & bill\\_depth\\_mm & flipper\\_length\\_mm & body\\_mass\\_g & sex & year\\\\\n",
       " <fct> & <fct> & <dbl> & <dbl> & <int> & <int> & <fct> & <int>\\\\\n",
       "\\hline\n",
       "\t Chinstrap & Dream & 49.6 & 18.2 & 193 & 3775 & male   & 2009\\\\\n",
       "\t Chinstrap & Dream & 50.8 & 19.0 & 210 & 4100 & male   & 2009\\\\\n",
       "\t Chinstrap & Dream & 50.2 & 18.7 & 198 & 3775 & female & 2009\\\\\n",
       "\\end{tabular}\n"
      ],
      "text/markdown": [
       "\n",
       "A tibble: 3 × 8\n",
       "\n",
       "| species &lt;fct&gt; | island &lt;fct&gt; | bill_length_mm &lt;dbl&gt; | bill_depth_mm &lt;dbl&gt; | flipper_length_mm &lt;int&gt; | body_mass_g &lt;int&gt; | sex &lt;fct&gt; | year &lt;int&gt; |\n",
       "|---|---|---|---|---|---|---|---|\n",
       "| Chinstrap | Dream | 49.6 | 18.2 | 193 | 3775 | male   | 2009 |\n",
       "| Chinstrap | Dream | 50.8 | 19.0 | 210 | 4100 | male   | 2009 |\n",
       "| Chinstrap | Dream | 50.2 | 18.7 | 198 | 3775 | female | 2009 |\n",
       "\n"
      ],
      "text/plain": [
       "  species   island bill_length_mm bill_depth_mm flipper_length_mm body_mass_g\n",
       "1 Chinstrap Dream  49.6           18.2          193               3775       \n",
       "2 Chinstrap Dream  50.8           19.0          210               4100       \n",
       "3 Chinstrap Dream  50.2           18.7          198               3775       \n",
       "  sex    year\n",
       "1 male   2009\n",
       "2 male   2009\n",
       "3 female 2009"
      ]
     },
     "metadata": {},
     "output_type": "display_data"
    }
   ],
   "source": [
    "tail(penguins, n = 3)"
   ]
  },
  {
   "cell_type": "markdown",
   "metadata": {},
   "source": [
    "## 2) Manipular datos\n",
    "\n",
    "Acá revisaremos funciones que nos dejar manipular el dataset y resumir información. Funciones útiles para esto son `mutate`, `filter`, `group_by`, y `select`. Además del operador `%>%`.\n",
    "\n",
    "### Operador `%>%`\n",
    "\n",
    "A veces mentalmente se traduce como \"y luego...\". La idea es encadenar una secuencia de funciones de forma que sea fácil leerla.\n"
   ]
  },
  {
   "cell_type": "code",
   "execution_count": 24,
   "metadata": {},
   "outputs": [
    {
     "ename": "ERROR",
     "evalue": "Error in tomo_desayuno(.): could not find function \"tomo_desayuno\"\n",
     "output_type": "error",
     "traceback": [
      "Error in tomo_desayuno(.): could not find function \"tomo_desayuno\"\nTraceback:\n",
      "1. yo_a_las_6am %>% me_levanto %>% me_visto %>% tomo_desayuno"
     ]
    }
   ],
   "source": [
    "yo_a_las_6am %>%\n",
    "    me_levanto %>%\n",
    "    me_visto %>%\n",
    "    tomo_desayuno "
   ]
  },
  {
   "cell_type": "markdown",
   "metadata": {},
   "source": [
    "La idea es hacer el código fluido. Al igual que el ejemplo **el orden es muy importante**.\n",
    "    "
   ]
  },
  {
   "cell_type": "markdown",
   "metadata": {},
   "source": [
    "### Pregunta: Cuales son los pesos promedios de las hembras por isla?\n",
    "\n",
    "Primero es útil la abstracción mental:"
   ]
  },
  {
   "cell_type": "code",
   "execution_count": null,
   "metadata": {},
   "outputs": [],
   "source": [
    "penguins %>%\n",
    "    selecciono_los_pesos_de_las_hembras %>%\n",
    "    agrupo_por_isla %>%\n",
    "    promedio_los_pesos"
   ]
  },
  {
   "cell_type": "markdown",
   "metadata": {},
   "source": [
    "Ahora con los pasos definidos, usamos `filter`, `group_by`, y `mean`. Además del operador `%>%`."
   ]
  },
  {
   "cell_type": "code",
   "execution_count": 34,
   "metadata": {},
   "outputs": [
    {
     "data": {
      "text/html": [
       "<table class=\"dataframe\">\n",
       "<caption>A tibble: 3 × 2</caption>\n",
       "<thead>\n",
       "\t<tr><th scope=col>island</th><th scope=col>promedio_hembras</th></tr>\n",
       "\t<tr><th scope=col>&lt;fct&gt;</th><th scope=col>&lt;dbl&gt;</th></tr>\n",
       "</thead>\n",
       "<tbody>\n",
       "\t<tr><td>Biscoe   </td><td>4319.375</td></tr>\n",
       "\t<tr><td>Dream    </td><td>3446.311</td></tr>\n",
       "\t<tr><td>Torgersen</td><td>3395.833</td></tr>\n",
       "</tbody>\n",
       "</table>\n"
      ],
      "text/latex": [
       "A tibble: 3 × 2\n",
       "\\begin{tabular}{ll}\n",
       " island & promedio\\_hembras\\\\\n",
       " <fct> & <dbl>\\\\\n",
       "\\hline\n",
       "\t Biscoe    & 4319.375\\\\\n",
       "\t Dream     & 3446.311\\\\\n",
       "\t Torgersen & 3395.833\\\\\n",
       "\\end{tabular}\n"
      ],
      "text/markdown": [
       "\n",
       "A tibble: 3 × 2\n",
       "\n",
       "| island &lt;fct&gt; | promedio_hembras &lt;dbl&gt; |\n",
       "|---|---|\n",
       "| Biscoe    | 4319.375 |\n",
       "| Dream     | 3446.311 |\n",
       "| Torgersen | 3395.833 |\n",
       "\n"
      ],
      "text/plain": [
       "  island    promedio_hembras\n",
       "1 Biscoe    4319.375        \n",
       "2 Dream     3446.311        \n",
       "3 Torgersen 3395.833        "
      ]
     },
     "metadata": {},
     "output_type": "display_data"
    }
   ],
   "source": [
    "penguins %>%\n",
    "    filter(sex == \"female\") %>% \n",
    "    group_by(island) %>%\n",
    "    summarize(promedio_hembras = mean(body_mass_g))"
   ]
  },
  {
   "cell_type": "markdown",
   "metadata": {},
   "source": [
    "## 3) Funciones `mutate()`,  `filter()`, `group_by()`, `select()`, `rename()`,`arrange()` y otras"
   ]
  },
  {
   "cell_type": "markdown",
   "metadata": {},
   "source": [
    "### `mutate()` crea o modifica una nueva variable"
   ]
  },
  {
   "cell_type": "code",
   "execution_count": 8,
   "metadata": {},
   "outputs": [
    {
     "data": {
      "text/html": [
       "<table class=\"dataframe\">\n",
       "<caption>A tibble: 3 × 9</caption>\n",
       "<thead>\n",
       "\t<tr><th scope=col>species</th><th scope=col>island</th><th scope=col>bill_length_mm</th><th scope=col>bill_depth_mm</th><th scope=col>flipper_length_mm</th><th scope=col>body_mass_g</th><th scope=col>sex</th><th scope=col>year</th><th scope=col>razon_bill_length_depth</th></tr>\n",
       "\t<tr><th scope=col>&lt;fct&gt;</th><th scope=col>&lt;fct&gt;</th><th scope=col>&lt;dbl&gt;</th><th scope=col>&lt;dbl&gt;</th><th scope=col>&lt;int&gt;</th><th scope=col>&lt;int&gt;</th><th scope=col>&lt;fct&gt;</th><th scope=col>&lt;int&gt;</th><th scope=col>&lt;dbl&gt;</th></tr>\n",
       "</thead>\n",
       "<tbody>\n",
       "\t<tr><td>Chinstrap</td><td>Dream</td><td>49.6</td><td>18.2</td><td>193</td><td>3775</td><td>male  </td><td>2009</td><td>2.725275</td></tr>\n",
       "\t<tr><td>Chinstrap</td><td>Dream</td><td>50.8</td><td>19.0</td><td>210</td><td>4100</td><td>male  </td><td>2009</td><td>2.673684</td></tr>\n",
       "\t<tr><td>Chinstrap</td><td>Dream</td><td>50.2</td><td>18.7</td><td>198</td><td>3775</td><td>female</td><td>2009</td><td>2.684492</td></tr>\n",
       "</tbody>\n",
       "</table>\n"
      ],
      "text/latex": [
       "A tibble: 3 × 9\n",
       "\\begin{tabular}{lllllllll}\n",
       " species & island & bill\\_length\\_mm & bill\\_depth\\_mm & flipper\\_length\\_mm & body\\_mass\\_g & sex & year & razon\\_bill\\_length\\_depth\\\\\n",
       " <fct> & <fct> & <dbl> & <dbl> & <int> & <int> & <fct> & <int> & <dbl>\\\\\n",
       "\\hline\n",
       "\t Chinstrap & Dream & 49.6 & 18.2 & 193 & 3775 & male   & 2009 & 2.725275\\\\\n",
       "\t Chinstrap & Dream & 50.8 & 19.0 & 210 & 4100 & male   & 2009 & 2.673684\\\\\n",
       "\t Chinstrap & Dream & 50.2 & 18.7 & 198 & 3775 & female & 2009 & 2.684492\\\\\n",
       "\\end{tabular}\n"
      ],
      "text/markdown": [
       "\n",
       "A tibble: 3 × 9\n",
       "\n",
       "| species &lt;fct&gt; | island &lt;fct&gt; | bill_length_mm &lt;dbl&gt; | bill_depth_mm &lt;dbl&gt; | flipper_length_mm &lt;int&gt; | body_mass_g &lt;int&gt; | sex &lt;fct&gt; | year &lt;int&gt; | razon_bill_length_depth &lt;dbl&gt; |\n",
       "|---|---|---|---|---|---|---|---|---|\n",
       "| Chinstrap | Dream | 49.6 | 18.2 | 193 | 3775 | male   | 2009 | 2.725275 |\n",
       "| Chinstrap | Dream | 50.8 | 19.0 | 210 | 4100 | male   | 2009 | 2.673684 |\n",
       "| Chinstrap | Dream | 50.2 | 18.7 | 198 | 3775 | female | 2009 | 2.684492 |\n",
       "\n"
      ],
      "text/plain": [
       "  species   island bill_length_mm bill_depth_mm flipper_length_mm body_mass_g\n",
       "1 Chinstrap Dream  49.6           18.2          193               3775       \n",
       "2 Chinstrap Dream  50.8           19.0          210               4100       \n",
       "3 Chinstrap Dream  50.2           18.7          198               3775       \n",
       "  sex    year razon_bill_length_depth\n",
       "1 male   2009 2.725275               \n",
       "2 male   2009 2.673684               \n",
       "3 female 2009 2.684492               "
      ]
     },
     "metadata": {},
     "output_type": "display_data"
    }
   ],
   "source": [
    "penguins %>% \n",
    "    mutate(razon_bill_length_depth = bill_length_mm / bill_depth_mm)%>% \n",
    "    tail(n = 3)"
   ]
  },
  {
   "cell_type": "markdown",
   "metadata": {},
   "source": [
    "### `recode()`  modifica una variable de forma rápida"
   ]
  },
  {
   "cell_type": "code",
   "execution_count": 14,
   "metadata": {},
   "outputs": [
    {
     "data": {
      "text/html": [
       "<table class=\"dataframe\">\n",
       "<caption>A tibble: 3 × 8</caption>\n",
       "<thead>\n",
       "\t<tr><th scope=col>species</th><th scope=col>island</th><th scope=col>bill_length_mm</th><th scope=col>bill_depth_mm</th><th scope=col>flipper_length_mm</th><th scope=col>body_mass_g</th><th scope=col>sex</th><th scope=col>year</th></tr>\n",
       "\t<tr><th scope=col>&lt;fct&gt;</th><th scope=col>&lt;fct&gt;</th><th scope=col>&lt;dbl&gt;</th><th scope=col>&lt;dbl&gt;</th><th scope=col>&lt;int&gt;</th><th scope=col>&lt;int&gt;</th><th scope=col>&lt;fct&gt;</th><th scope=col>&lt;int&gt;</th></tr>\n",
       "</thead>\n",
       "<tbody>\n",
       "\t<tr><td>Chinstrap</td><td>Dream</td><td>49.6</td><td>18.2</td><td>193</td><td>3775</td><td>macho </td><td>2009</td></tr>\n",
       "\t<tr><td>Chinstrap</td><td>Dream</td><td>50.8</td><td>19.0</td><td>210</td><td>4100</td><td>macho </td><td>2009</td></tr>\n",
       "\t<tr><td>Chinstrap</td><td>Dream</td><td>50.2</td><td>18.7</td><td>198</td><td>3775</td><td>hembra</td><td>2009</td></tr>\n",
       "</tbody>\n",
       "</table>\n"
      ],
      "text/latex": [
       "A tibble: 3 × 8\n",
       "\\begin{tabular}{llllllll}\n",
       " species & island & bill\\_length\\_mm & bill\\_depth\\_mm & flipper\\_length\\_mm & body\\_mass\\_g & sex & year\\\\\n",
       " <fct> & <fct> & <dbl> & <dbl> & <int> & <int> & <fct> & <int>\\\\\n",
       "\\hline\n",
       "\t Chinstrap & Dream & 49.6 & 18.2 & 193 & 3775 & macho  & 2009\\\\\n",
       "\t Chinstrap & Dream & 50.8 & 19.0 & 210 & 4100 & macho  & 2009\\\\\n",
       "\t Chinstrap & Dream & 50.2 & 18.7 & 198 & 3775 & hembra & 2009\\\\\n",
       "\\end{tabular}\n"
      ],
      "text/markdown": [
       "\n",
       "A tibble: 3 × 8\n",
       "\n",
       "| species &lt;fct&gt; | island &lt;fct&gt; | bill_length_mm &lt;dbl&gt; | bill_depth_mm &lt;dbl&gt; | flipper_length_mm &lt;int&gt; | body_mass_g &lt;int&gt; | sex &lt;fct&gt; | year &lt;int&gt; |\n",
       "|---|---|---|---|---|---|---|---|\n",
       "| Chinstrap | Dream | 49.6 | 18.2 | 193 | 3775 | macho  | 2009 |\n",
       "| Chinstrap | Dream | 50.8 | 19.0 | 210 | 4100 | macho  | 2009 |\n",
       "| Chinstrap | Dream | 50.2 | 18.7 | 198 | 3775 | hembra | 2009 |\n",
       "\n"
      ],
      "text/plain": [
       "  species   island bill_length_mm bill_depth_mm flipper_length_mm body_mass_g\n",
       "1 Chinstrap Dream  49.6           18.2          193               3775       \n",
       "2 Chinstrap Dream  50.8           19.0          210               4100       \n",
       "3 Chinstrap Dream  50.2           18.7          198               3775       \n",
       "  sex    year\n",
       "1 macho  2009\n",
       "2 macho  2009\n",
       "3 hembra 2009"
      ]
     },
     "metadata": {},
     "output_type": "display_data"
    }
   ],
   "source": [
    "penguins %>% \n",
    "    mutate(sex = recode(sex, male = \"macho\", female = \"hembra\"))%>% \n",
    "    tail(n = 3)"
   ]
  },
  {
   "cell_type": "markdown",
   "metadata": {},
   "source": [
    "### `filter()`  retiene filas que cumplen con las condiciones que indica"
   ]
  },
  {
   "cell_type": "code",
   "execution_count": 57,
   "metadata": {},
   "outputs": [
    {
     "data": {
      "text/html": [
       "<table class=\"dataframe\">\n",
       "<caption>A tibble: 3 × 8</caption>\n",
       "<thead>\n",
       "\t<tr><th scope=col>species</th><th scope=col>island</th><th scope=col>bill_length_mm</th><th scope=col>bill_depth_mm</th><th scope=col>flipper_length_mm</th><th scope=col>body_mass_g</th><th scope=col>sex</th><th scope=col>year</th></tr>\n",
       "\t<tr><th scope=col>&lt;fct&gt;</th><th scope=col>&lt;fct&gt;</th><th scope=col>&lt;dbl&gt;</th><th scope=col>&lt;dbl&gt;</th><th scope=col>&lt;int&gt;</th><th scope=col>&lt;int&gt;</th><th scope=col>&lt;fct&gt;</th><th scope=col>&lt;int&gt;</th></tr>\n",
       "</thead>\n",
       "<tbody>\n",
       "\t<tr><td>Chinstrap</td><td>Dream</td><td>45.7</td><td>17.0</td><td>195</td><td>3650</td><td>female</td><td>2009</td></tr>\n",
       "\t<tr><td>Chinstrap</td><td>Dream</td><td>43.5</td><td>18.1</td><td>202</td><td>3400</td><td>female</td><td>2009</td></tr>\n",
       "\t<tr><td>Chinstrap</td><td>Dream</td><td>50.2</td><td>18.7</td><td>198</td><td>3775</td><td>female</td><td>2009</td></tr>\n",
       "</tbody>\n",
       "</table>\n"
      ],
      "text/latex": [
       "A tibble: 3 × 8\n",
       "\\begin{tabular}{llllllll}\n",
       " species & island & bill\\_length\\_mm & bill\\_depth\\_mm & flipper\\_length\\_mm & body\\_mass\\_g & sex & year\\\\\n",
       " <fct> & <fct> & <dbl> & <dbl> & <int> & <int> & <fct> & <int>\\\\\n",
       "\\hline\n",
       "\t Chinstrap & Dream & 45.7 & 17.0 & 195 & 3650 & female & 2009\\\\\n",
       "\t Chinstrap & Dream & 43.5 & 18.1 & 202 & 3400 & female & 2009\\\\\n",
       "\t Chinstrap & Dream & 50.2 & 18.7 & 198 & 3775 & female & 2009\\\\\n",
       "\\end{tabular}\n"
      ],
      "text/markdown": [
       "\n",
       "A tibble: 3 × 8\n",
       "\n",
       "| species &lt;fct&gt; | island &lt;fct&gt; | bill_length_mm &lt;dbl&gt; | bill_depth_mm &lt;dbl&gt; | flipper_length_mm &lt;int&gt; | body_mass_g &lt;int&gt; | sex &lt;fct&gt; | year &lt;int&gt; |\n",
       "|---|---|---|---|---|---|---|---|\n",
       "| Chinstrap | Dream | 45.7 | 17.0 | 195 | 3650 | female | 2009 |\n",
       "| Chinstrap | Dream | 43.5 | 18.1 | 202 | 3400 | female | 2009 |\n",
       "| Chinstrap | Dream | 50.2 | 18.7 | 198 | 3775 | female | 2009 |\n",
       "\n"
      ],
      "text/plain": [
       "  species   island bill_length_mm bill_depth_mm flipper_length_mm body_mass_g\n",
       "1 Chinstrap Dream  45.7           17.0          195               3650       \n",
       "2 Chinstrap Dream  43.5           18.1          202               3400       \n",
       "3 Chinstrap Dream  50.2           18.7          198               3775       \n",
       "  sex    year\n",
       "1 female 2009\n",
       "2 female 2009\n",
       "3 female 2009"
      ]
     },
     "metadata": {},
     "output_type": "display_data"
    }
   ],
   "source": [
    "penguins %>% \n",
    "    filter(sex == \"female\") %>% \n",
    "    tail(n = 3)"
   ]
  },
  {
   "cell_type": "markdown",
   "metadata": {},
   "source": [
    "### Para usar `filter()`  es útil conocer los operadores para indicar las condiciones:\n",
    "* ==, >, >= etc.\n",
    "\n",
    "* &, |, !\n",
    "\n",
    "* is.na()\n",
    "\n",
    "* between(), near()\n",
    "\n",
    "Veamos unos ejemplos de operadores antes de seguir"
   ]
  },
  {
   "cell_type": "code",
   "execution_count": 45,
   "metadata": {},
   "outputs": [
    {
     "data": {
      "text/html": [
       "<table class=\"dataframe\">\n",
       "<caption>A tibble: 2 × 8</caption>\n",
       "<thead>\n",
       "\t<tr><th scope=col>species</th><th scope=col>island</th><th scope=col>bill_length_mm</th><th scope=col>bill_depth_mm</th><th scope=col>flipper_length_mm</th><th scope=col>body_mass_g</th><th scope=col>sex</th><th scope=col>year</th></tr>\n",
       "\t<tr><th scope=col>&lt;fct&gt;</th><th scope=col>&lt;fct&gt;</th><th scope=col>&lt;dbl&gt;</th><th scope=col>&lt;dbl&gt;</th><th scope=col>&lt;int&gt;</th><th scope=col>&lt;int&gt;</th><th scope=col>&lt;fct&gt;</th><th scope=col>&lt;int&gt;</th></tr>\n",
       "</thead>\n",
       "<tbody>\n",
       "\t<tr><td>Gentoo</td><td>Biscoe</td><td>46.5</td><td>14.8</td><td>217</td><td>5200</td><td>female</td><td>2008</td></tr>\n",
       "\t<tr><td>Gentoo</td><td>Biscoe</td><td>45.2</td><td>14.8</td><td>212</td><td>5200</td><td>female</td><td>2009</td></tr>\n",
       "</tbody>\n",
       "</table>\n"
      ],
      "text/latex": [
       "A tibble: 2 × 8\n",
       "\\begin{tabular}{llllllll}\n",
       " species & island & bill\\_length\\_mm & bill\\_depth\\_mm & flipper\\_length\\_mm & body\\_mass\\_g & sex & year\\\\\n",
       " <fct> & <fct> & <dbl> & <dbl> & <int> & <int> & <fct> & <int>\\\\\n",
       "\\hline\n",
       "\t Gentoo & Biscoe & 46.5 & 14.8 & 217 & 5200 & female & 2008\\\\\n",
       "\t Gentoo & Biscoe & 45.2 & 14.8 & 212 & 5200 & female & 2009\\\\\n",
       "\\end{tabular}\n"
      ],
      "text/markdown": [
       "\n",
       "A tibble: 2 × 8\n",
       "\n",
       "| species &lt;fct&gt; | island &lt;fct&gt; | bill_length_mm &lt;dbl&gt; | bill_depth_mm &lt;dbl&gt; | flipper_length_mm &lt;int&gt; | body_mass_g &lt;int&gt; | sex &lt;fct&gt; | year &lt;int&gt; |\n",
       "|---|---|---|---|---|---|---|---|\n",
       "| Gentoo | Biscoe | 46.5 | 14.8 | 217 | 5200 | female | 2008 |\n",
       "| Gentoo | Biscoe | 45.2 | 14.8 | 212 | 5200 | female | 2009 |\n",
       "\n"
      ],
      "text/plain": [
       "  species island bill_length_mm bill_depth_mm flipper_length_mm body_mass_g\n",
       "1 Gentoo  Biscoe 46.5           14.8          217               5200       \n",
       "2 Gentoo  Biscoe 45.2           14.8          212               5200       \n",
       "  sex    year\n",
       "1 female 2008\n",
       "2 female 2009"
      ]
     },
     "metadata": {},
     "output_type": "display_data"
    }
   ],
   "source": [
    "penguins %>% # operador ! indica logical negation (NOT) y operador & indica logical AND\n",
    "    filter(!sex == \"female\" &  between(body_mass_g,3000,3300))"
   ]
  },
  {
   "cell_type": "code",
   "execution_count": 56,
   "metadata": {},
   "outputs": [
    {
     "data": {
      "text/html": [
       "<table class=\"dataframe\">\n",
       "<caption>A tibble: 11 × 8</caption>\n",
       "<thead>\n",
       "\t<tr><th scope=col>species</th><th scope=col>island</th><th scope=col>bill_length_mm</th><th scope=col>bill_depth_mm</th><th scope=col>flipper_length_mm</th><th scope=col>body_mass_g</th><th scope=col>sex</th><th scope=col>year</th></tr>\n",
       "\t<tr><th scope=col>&lt;fct&gt;</th><th scope=col>&lt;fct&gt;</th><th scope=col>&lt;dbl&gt;</th><th scope=col>&lt;dbl&gt;</th><th scope=col>&lt;int&gt;</th><th scope=col>&lt;int&gt;</th><th scope=col>&lt;fct&gt;</th><th scope=col>&lt;int&gt;</th></tr>\n",
       "</thead>\n",
       "<tbody>\n",
       "\t<tr><td>Adelie</td><td>Torgersen</td><td>  NA</td><td>  NA</td><td> NA</td><td>  NA</td><td>NA</td><td>2007</td></tr>\n",
       "\t<tr><td>Adelie</td><td>Torgersen</td><td>34.1</td><td>18.1</td><td>193</td><td>3475</td><td>NA</td><td>2007</td></tr>\n",
       "\t<tr><td>Adelie</td><td>Torgersen</td><td>42.0</td><td>20.2</td><td>190</td><td>4250</td><td>NA</td><td>2007</td></tr>\n",
       "\t<tr><td>Adelie</td><td>Torgersen</td><td>37.8</td><td>17.1</td><td>186</td><td>3300</td><td>NA</td><td>2007</td></tr>\n",
       "\t<tr><td>Adelie</td><td>Torgersen</td><td>37.8</td><td>17.3</td><td>180</td><td>3700</td><td>NA</td><td>2007</td></tr>\n",
       "\t<tr><td>Adelie</td><td>Dream    </td><td>37.5</td><td>18.9</td><td>179</td><td>2975</td><td>NA</td><td>2007</td></tr>\n",
       "\t<tr><td>Gentoo</td><td>Biscoe   </td><td>44.5</td><td>14.3</td><td>216</td><td>4100</td><td>NA</td><td>2007</td></tr>\n",
       "\t<tr><td>Gentoo</td><td>Biscoe   </td><td>46.2</td><td>14.4</td><td>214</td><td>4650</td><td>NA</td><td>2008</td></tr>\n",
       "\t<tr><td>Gentoo</td><td>Biscoe   </td><td>47.3</td><td>13.8</td><td>216</td><td>4725</td><td>NA</td><td>2009</td></tr>\n",
       "\t<tr><td>Gentoo</td><td>Biscoe   </td><td>44.5</td><td>15.7</td><td>217</td><td>4875</td><td>NA</td><td>2009</td></tr>\n",
       "\t<tr><td>Gentoo</td><td>Biscoe   </td><td>  NA</td><td>  NA</td><td> NA</td><td>  NA</td><td>NA</td><td>2009</td></tr>\n",
       "</tbody>\n",
       "</table>\n"
      ],
      "text/latex": [
       "A tibble: 11 × 8\n",
       "\\begin{tabular}{llllllll}\n",
       " species & island & bill\\_length\\_mm & bill\\_depth\\_mm & flipper\\_length\\_mm & body\\_mass\\_g & sex & year\\\\\n",
       " <fct> & <fct> & <dbl> & <dbl> & <int> & <int> & <fct> & <int>\\\\\n",
       "\\hline\n",
       "\t Adelie & Torgersen &   NA &   NA &  NA &   NA & NA & 2007\\\\\n",
       "\t Adelie & Torgersen & 34.1 & 18.1 & 193 & 3475 & NA & 2007\\\\\n",
       "\t Adelie & Torgersen & 42.0 & 20.2 & 190 & 4250 & NA & 2007\\\\\n",
       "\t Adelie & Torgersen & 37.8 & 17.1 & 186 & 3300 & NA & 2007\\\\\n",
       "\t Adelie & Torgersen & 37.8 & 17.3 & 180 & 3700 & NA & 2007\\\\\n",
       "\t Adelie & Dream     & 37.5 & 18.9 & 179 & 2975 & NA & 2007\\\\\n",
       "\t Gentoo & Biscoe    & 44.5 & 14.3 & 216 & 4100 & NA & 2007\\\\\n",
       "\t Gentoo & Biscoe    & 46.2 & 14.4 & 214 & 4650 & NA & 2008\\\\\n",
       "\t Gentoo & Biscoe    & 47.3 & 13.8 & 216 & 4725 & NA & 2009\\\\\n",
       "\t Gentoo & Biscoe    & 44.5 & 15.7 & 217 & 4875 & NA & 2009\\\\\n",
       "\t Gentoo & Biscoe    &   NA &   NA &  NA &   NA & NA & 2009\\\\\n",
       "\\end{tabular}\n"
      ],
      "text/markdown": [
       "\n",
       "A tibble: 11 × 8\n",
       "\n",
       "| species &lt;fct&gt; | island &lt;fct&gt; | bill_length_mm &lt;dbl&gt; | bill_depth_mm &lt;dbl&gt; | flipper_length_mm &lt;int&gt; | body_mass_g &lt;int&gt; | sex &lt;fct&gt; | year &lt;int&gt; |\n",
       "|---|---|---|---|---|---|---|---|\n",
       "| Adelie | Torgersen |   NA |   NA |  NA |   NA | NA | 2007 |\n",
       "| Adelie | Torgersen | 34.1 | 18.1 | 193 | 3475 | NA | 2007 |\n",
       "| Adelie | Torgersen | 42.0 | 20.2 | 190 | 4250 | NA | 2007 |\n",
       "| Adelie | Torgersen | 37.8 | 17.1 | 186 | 3300 | NA | 2007 |\n",
       "| Adelie | Torgersen | 37.8 | 17.3 | 180 | 3700 | NA | 2007 |\n",
       "| Adelie | Dream     | 37.5 | 18.9 | 179 | 2975 | NA | 2007 |\n",
       "| Gentoo | Biscoe    | 44.5 | 14.3 | 216 | 4100 | NA | 2007 |\n",
       "| Gentoo | Biscoe    | 46.2 | 14.4 | 214 | 4650 | NA | 2008 |\n",
       "| Gentoo | Biscoe    | 47.3 | 13.8 | 216 | 4725 | NA | 2009 |\n",
       "| Gentoo | Biscoe    | 44.5 | 15.7 | 217 | 4875 | NA | 2009 |\n",
       "| Gentoo | Biscoe    |   NA |   NA |  NA |   NA | NA | 2009 |\n",
       "\n"
      ],
      "text/plain": [
       "   species island    bill_length_mm bill_depth_mm flipper_length_mm body_mass_g\n",
       "1  Adelie  Torgersen   NA             NA           NA                 NA       \n",
       "2  Adelie  Torgersen 34.1           18.1          193               3475       \n",
       "3  Adelie  Torgersen 42.0           20.2          190               4250       \n",
       "4  Adelie  Torgersen 37.8           17.1          186               3300       \n",
       "5  Adelie  Torgersen 37.8           17.3          180               3700       \n",
       "6  Adelie  Dream     37.5           18.9          179               2975       \n",
       "7  Gentoo  Biscoe    44.5           14.3          216               4100       \n",
       "8  Gentoo  Biscoe    46.2           14.4          214               4650       \n",
       "9  Gentoo  Biscoe    47.3           13.8          216               4725       \n",
       "10 Gentoo  Biscoe    44.5           15.7          217               4875       \n",
       "11 Gentoo  Biscoe      NA             NA           NA                 NA       \n",
       "   sex year\n",
       "1  NA  2007\n",
       "2  NA  2007\n",
       "3  NA  2007\n",
       "4  NA  2007\n",
       "5  NA  2007\n",
       "6  NA  2007\n",
       "7  NA  2007\n",
       "8  NA  2008\n",
       "9  NA  2009\n",
       "10 NA  2009\n",
       "11 NA  2009"
      ]
     },
     "metadata": {},
     "output_type": "display_data"
    }
   ],
   "source": [
    "penguins %>% # is.na() filtra las filas con NA y operador & indica logical OR\n",
    "    filter(is.na(sex) | is.na(body_mass_g))"
   ]
  },
  {
   "cell_type": "markdown",
   "metadata": {},
   "source": [
    "### `group_by()`  agrupa variables para las siguientes operaciones. `ungroup()` termina la función"
   ]
  },
  {
   "cell_type": "code",
   "execution_count": 67,
   "metadata": {},
   "outputs": [
    {
     "data": {
      "text/html": [
       "<table class=\"dataframe\">\n",
       "<caption>A tibble: 3 × 2</caption>\n",
       "<thead>\n",
       "\t<tr><th scope=col>sex</th><th scope=col>promedio</th></tr>\n",
       "\t<tr><th scope=col>&lt;fct&gt;</th><th scope=col>&lt;dbl&gt;</th></tr>\n",
       "</thead>\n",
       "<tbody>\n",
       "\t<tr><td>female</td><td>3862.273</td></tr>\n",
       "\t<tr><td>male  </td><td>4545.685</td></tr>\n",
       "\t<tr><td>NA    </td><td>      NA</td></tr>\n",
       "</tbody>\n",
       "</table>\n"
      ],
      "text/latex": [
       "A tibble: 3 × 2\n",
       "\\begin{tabular}{ll}\n",
       " sex & promedio\\\\\n",
       " <fct> & <dbl>\\\\\n",
       "\\hline\n",
       "\t female & 3862.273\\\\\n",
       "\t male   & 4545.685\\\\\n",
       "\t NA     &       NA\\\\\n",
       "\\end{tabular}\n"
      ],
      "text/markdown": [
       "\n",
       "A tibble: 3 × 2\n",
       "\n",
       "| sex &lt;fct&gt; | promedio &lt;dbl&gt; |\n",
       "|---|---|\n",
       "| female | 3862.273 |\n",
       "| male   | 4545.685 |\n",
       "| NA     |       NA |\n",
       "\n"
      ],
      "text/plain": [
       "  sex    promedio\n",
       "1 female 3862.273\n",
       "2 male   4545.685\n",
       "3 NA           NA"
      ]
     },
     "metadata": {},
     "output_type": "display_data"
    }
   ],
   "source": [
    "penguins %>% \n",
    "    group_by(sex) %>%\n",
    "    summarize(promedio = mean(body_mass_g))%>%\n",
    "    ungroup()"
   ]
  },
  {
   "cell_type": "markdown",
   "metadata": {},
   "source": [
    "### Ahora podemos combinar  `filter()` y  `mutate()` "
   ]
  },
  {
   "cell_type": "code",
   "execution_count": 66,
   "metadata": {},
   "outputs": [
    {
     "data": {
      "text/html": [
       "<table class=\"dataframe\">\n",
       "<caption>A tibble: 2 × 2</caption>\n",
       "<thead>\n",
       "\t<tr><th scope=col>sex</th><th scope=col>promedio</th></tr>\n",
       "\t<tr><th scope=col>&lt;fct&gt;</th><th scope=col>&lt;dbl&gt;</th></tr>\n",
       "</thead>\n",
       "<tbody>\n",
       "\t<tr><td>female</td><td>3862.273</td></tr>\n",
       "\t<tr><td>male  </td><td>4545.685</td></tr>\n",
       "</tbody>\n",
       "</table>\n"
      ],
      "text/latex": [
       "A tibble: 2 × 2\n",
       "\\begin{tabular}{ll}\n",
       " sex & promedio\\\\\n",
       " <fct> & <dbl>\\\\\n",
       "\\hline\n",
       "\t female & 3862.273\\\\\n",
       "\t male   & 4545.685\\\\\n",
       "\\end{tabular}\n"
      ],
      "text/markdown": [
       "\n",
       "A tibble: 2 × 2\n",
       "\n",
       "| sex &lt;fct&gt; | promedio &lt;dbl&gt; |\n",
       "|---|---|\n",
       "| female | 3862.273 |\n",
       "| male   | 4545.685 |\n",
       "\n"
      ],
      "text/plain": [
       "  sex    promedio\n",
       "1 female 3862.273\n",
       "2 male   4545.685"
      ]
     },
     "metadata": {},
     "output_type": "display_data"
    }
   ],
   "source": [
    "penguins %>% \n",
    "    filter(!is.na(sex) & !is.na(body_mass_g))%>% \n",
    "    group_by(sex) %>%\n",
    "    summarize(promedio = mean(body_mass_g)) %>%\n",
    "    ungroup()"
   ]
  },
  {
   "cell_type": "markdown",
   "metadata": {},
   "source": [
    "###  `ungroup()` es importante!!"
   ]
  },
  {
   "cell_type": "code",
   "execution_count": 84,
   "metadata": {},
   "outputs": [
    {
     "data": {
      "text/html": [
       "<table class=\"dataframe\">\n",
       "<caption>A tibble: 6 × 10</caption>\n",
       "<thead>\n",
       "\t<tr><th scope=col>species</th><th scope=col>island</th><th scope=col>bill_length_mm</th><th scope=col>bill_depth_mm</th><th scope=col>flipper_length_mm</th><th scope=col>body_mass_g</th><th scope=col>sex</th><th scope=col>year</th><th scope=col>promedio_body_mass_g</th><th scope=col>promedio_bill_depth</th></tr>\n",
       "\t<tr><th scope=col>&lt;fct&gt;</th><th scope=col>&lt;fct&gt;</th><th scope=col>&lt;dbl&gt;</th><th scope=col>&lt;dbl&gt;</th><th scope=col>&lt;int&gt;</th><th scope=col>&lt;int&gt;</th><th scope=col>&lt;fct&gt;</th><th scope=col>&lt;int&gt;</th><th scope=col>&lt;dbl&gt;</th><th scope=col>&lt;dbl&gt;</th></tr>\n",
       "</thead>\n",
       "<tbody>\n",
       "\t<tr><td>Chinstrap</td><td>Dream</td><td>45.7</td><td>17.0</td><td>195</td><td>3650</td><td>female</td><td>2009</td><td>3862.273</td><td>16.42545</td></tr>\n",
       "\t<tr><td>Chinstrap</td><td>Dream</td><td>55.8</td><td>19.8</td><td>207</td><td>4000</td><td>male  </td><td>2009</td><td>4545.685</td><td>17.89107</td></tr>\n",
       "\t<tr><td>Chinstrap</td><td>Dream</td><td>43.5</td><td>18.1</td><td>202</td><td>3400</td><td>female</td><td>2009</td><td>3862.273</td><td>16.42545</td></tr>\n",
       "\t<tr><td>Chinstrap</td><td>Dream</td><td>49.6</td><td>18.2</td><td>193</td><td>3775</td><td>male  </td><td>2009</td><td>4545.685</td><td>17.89107</td></tr>\n",
       "\t<tr><td>Chinstrap</td><td>Dream</td><td>50.8</td><td>19.0</td><td>210</td><td>4100</td><td>male  </td><td>2009</td><td>4545.685</td><td>17.89107</td></tr>\n",
       "\t<tr><td>Chinstrap</td><td>Dream</td><td>50.2</td><td>18.7</td><td>198</td><td>3775</td><td>female</td><td>2009</td><td>3862.273</td><td>16.42545</td></tr>\n",
       "</tbody>\n",
       "</table>\n"
      ],
      "text/latex": [
       "A tibble: 6 × 10\n",
       "\\begin{tabular}{llllllllll}\n",
       " species & island & bill\\_length\\_mm & bill\\_depth\\_mm & flipper\\_length\\_mm & body\\_mass\\_g & sex & year & promedio\\_body\\_mass\\_g & promedio\\_bill\\_depth\\\\\n",
       " <fct> & <fct> & <dbl> & <dbl> & <int> & <int> & <fct> & <int> & <dbl> & <dbl>\\\\\n",
       "\\hline\n",
       "\t Chinstrap & Dream & 45.7 & 17.0 & 195 & 3650 & female & 2009 & 3862.273 & 16.42545\\\\\n",
       "\t Chinstrap & Dream & 55.8 & 19.8 & 207 & 4000 & male   & 2009 & 4545.685 & 17.89107\\\\\n",
       "\t Chinstrap & Dream & 43.5 & 18.1 & 202 & 3400 & female & 2009 & 3862.273 & 16.42545\\\\\n",
       "\t Chinstrap & Dream & 49.6 & 18.2 & 193 & 3775 & male   & 2009 & 4545.685 & 17.89107\\\\\n",
       "\t Chinstrap & Dream & 50.8 & 19.0 & 210 & 4100 & male   & 2009 & 4545.685 & 17.89107\\\\\n",
       "\t Chinstrap & Dream & 50.2 & 18.7 & 198 & 3775 & female & 2009 & 3862.273 & 16.42545\\\\\n",
       "\\end{tabular}\n"
      ],
      "text/markdown": [
       "\n",
       "A tibble: 6 × 10\n",
       "\n",
       "| species &lt;fct&gt; | island &lt;fct&gt; | bill_length_mm &lt;dbl&gt; | bill_depth_mm &lt;dbl&gt; | flipper_length_mm &lt;int&gt; | body_mass_g &lt;int&gt; | sex &lt;fct&gt; | year &lt;int&gt; | promedio_body_mass_g &lt;dbl&gt; | promedio_bill_depth &lt;dbl&gt; |\n",
       "|---|---|---|---|---|---|---|---|---|---|\n",
       "| Chinstrap | Dream | 45.7 | 17.0 | 195 | 3650 | female | 2009 | 3862.273 | 16.42545 |\n",
       "| Chinstrap | Dream | 55.8 | 19.8 | 207 | 4000 | male   | 2009 | 4545.685 | 17.89107 |\n",
       "| Chinstrap | Dream | 43.5 | 18.1 | 202 | 3400 | female | 2009 | 3862.273 | 16.42545 |\n",
       "| Chinstrap | Dream | 49.6 | 18.2 | 193 | 3775 | male   | 2009 | 4545.685 | 17.89107 |\n",
       "| Chinstrap | Dream | 50.8 | 19.0 | 210 | 4100 | male   | 2009 | 4545.685 | 17.89107 |\n",
       "| Chinstrap | Dream | 50.2 | 18.7 | 198 | 3775 | female | 2009 | 3862.273 | 16.42545 |\n",
       "\n"
      ],
      "text/plain": [
       "  species   island bill_length_mm bill_depth_mm flipper_length_mm body_mass_g\n",
       "1 Chinstrap Dream  45.7           17.0          195               3650       \n",
       "2 Chinstrap Dream  55.8           19.8          207               4000       \n",
       "3 Chinstrap Dream  43.5           18.1          202               3400       \n",
       "4 Chinstrap Dream  49.6           18.2          193               3775       \n",
       "5 Chinstrap Dream  50.8           19.0          210               4100       \n",
       "6 Chinstrap Dream  50.2           18.7          198               3775       \n",
       "  sex    year promedio_body_mass_g promedio_bill_depth\n",
       "1 female 2009 3862.273             16.42545           \n",
       "2 male   2009 4545.685             17.89107           \n",
       "3 female 2009 3862.273             16.42545           \n",
       "4 male   2009 4545.685             17.89107           \n",
       "5 male   2009 4545.685             17.89107           \n",
       "6 female 2009 3862.273             16.42545           "
      ]
     },
     "metadata": {},
     "output_type": "display_data"
    }
   ],
   "source": [
    "penguins %>% \n",
    "  group_by(sex) %>% \n",
    "  mutate(promedio_body_mass_g = mean(body_mass_g)) %>%    # calcula el promedio de peso de males y females\n",
    "  mutate(promedio_bill_depth = mean(bill_depth_mm)) %>%  # calcula el promedio de bill_depth de males y females\n",
    "  ungroup() %>% \n",
    "  tail(n = 6) # cerrando con ungroup() \n"
   ]
  },
  {
   "cell_type": "markdown",
   "metadata": {},
   "source": [
    "### Para contar grupos usamos `tally()` "
   ]
  },
  {
   "cell_type": "code",
   "execution_count": 88,
   "metadata": {},
   "outputs": [
    {
     "data": {
      "text/html": [
       "<table class=\"dataframe\">\n",
       "<caption>A grouped_df: 9 × 3</caption>\n",
       "<thead>\n",
       "\t<tr><th scope=col>sex</th><th scope=col>island</th><th scope=col>n</th></tr>\n",
       "\t<tr><th scope=col>&lt;fct&gt;</th><th scope=col>&lt;fct&gt;</th><th scope=col>&lt;int&gt;</th></tr>\n",
       "</thead>\n",
       "<tbody>\n",
       "\t<tr><td>male  </td><td>Biscoe   </td><td>83</td></tr>\n",
       "\t<tr><td>female</td><td>Biscoe   </td><td>80</td></tr>\n",
       "\t<tr><td>male  </td><td>Dream    </td><td>62</td></tr>\n",
       "\t<tr><td>female</td><td>Dream    </td><td>61</td></tr>\n",
       "\t<tr><td>female</td><td>Torgersen</td><td>24</td></tr>\n",
       "\t<tr><td>male  </td><td>Torgersen</td><td>23</td></tr>\n",
       "\t<tr><td>NA    </td><td>Biscoe   </td><td> 5</td></tr>\n",
       "\t<tr><td>NA    </td><td>Torgersen</td><td> 5</td></tr>\n",
       "\t<tr><td>NA    </td><td>Dream    </td><td> 1</td></tr>\n",
       "</tbody>\n",
       "</table>\n"
      ],
      "text/latex": [
       "A grouped\\_df: 9 × 3\n",
       "\\begin{tabular}{lll}\n",
       " sex & island & n\\\\\n",
       " <fct> & <fct> & <int>\\\\\n",
       "\\hline\n",
       "\t male   & Biscoe    & 83\\\\\n",
       "\t female & Biscoe    & 80\\\\\n",
       "\t male   & Dream     & 62\\\\\n",
       "\t female & Dream     & 61\\\\\n",
       "\t female & Torgersen & 24\\\\\n",
       "\t male   & Torgersen & 23\\\\\n",
       "\t NA     & Biscoe    &  5\\\\\n",
       "\t NA     & Torgersen &  5\\\\\n",
       "\t NA     & Dream     &  1\\\\\n",
       "\\end{tabular}\n"
      ],
      "text/markdown": [
       "\n",
       "A grouped_df: 9 × 3\n",
       "\n",
       "| sex &lt;fct&gt; | island &lt;fct&gt; | n &lt;int&gt; |\n",
       "|---|---|---|\n",
       "| male   | Biscoe    | 83 |\n",
       "| female | Biscoe    | 80 |\n",
       "| male   | Dream     | 62 |\n",
       "| female | Dream     | 61 |\n",
       "| female | Torgersen | 24 |\n",
       "| male   | Torgersen | 23 |\n",
       "| NA     | Biscoe    |  5 |\n",
       "| NA     | Torgersen |  5 |\n",
       "| NA     | Dream     |  1 |\n",
       "\n"
      ],
      "text/plain": [
       "  sex    island    n \n",
       "1 male   Biscoe    83\n",
       "2 female Biscoe    80\n",
       "3 male   Dream     62\n",
       "4 female Dream     61\n",
       "5 female Torgersen 24\n",
       "6 male   Torgersen 23\n",
       "7 NA     Biscoe     5\n",
       "8 NA     Torgersen  5\n",
       "9 NA     Dream      1"
      ]
     },
     "metadata": {},
     "output_type": "display_data"
    }
   ],
   "source": [
    "penguins %>% \n",
    "  group_by(sex, island) %>%\n",
    "  tally(sort = TRUE) # sort = TRUE ordena de mayor a menor "
   ]
  },
  {
   "cell_type": "markdown",
   "metadata": {},
   "source": [
    "### Trabajar con `group_by()` es útil en conjunto a `summarise()`"
   ]
  },
  {
   "cell_type": "code",
   "execution_count": 91,
   "metadata": {},
   "outputs": [
    {
     "name": "stderr",
     "output_type": "stream",
     "text": [
      "\u001b[1m\u001b[22m`summarise()` has grouped output by 'sex'. You can override using the `.groups`\n",
      "argument.\n"
     ]
    },
    {
     "data": {
      "text/html": [
       "<table class=\"dataframe\">\n",
       "<caption>A grouped_df: 9 × 4</caption>\n",
       "<thead>\n",
       "\t<tr><th scope=col>sex</th><th scope=col>island</th><th scope=col>n</th><th scope=col>promedio_peso</th></tr>\n",
       "\t<tr><th scope=col>&lt;fct&gt;</th><th scope=col>&lt;fct&gt;</th><th scope=col>&lt;int&gt;</th><th scope=col>&lt;dbl&gt;</th></tr>\n",
       "</thead>\n",
       "<tbody>\n",
       "\t<tr><td>female</td><td>Biscoe   </td><td>80</td><td>4319.375</td></tr>\n",
       "\t<tr><td>female</td><td>Dream    </td><td>61</td><td>3446.311</td></tr>\n",
       "\t<tr><td>female</td><td>Torgersen</td><td>24</td><td>3395.833</td></tr>\n",
       "\t<tr><td>male  </td><td>Biscoe   </td><td>83</td><td>5104.518</td></tr>\n",
       "\t<tr><td>male  </td><td>Dream    </td><td>62</td><td>3987.097</td></tr>\n",
       "\t<tr><td>male  </td><td>Torgersen</td><td>23</td><td>4034.783</td></tr>\n",
       "\t<tr><td>NA    </td><td>Biscoe   </td><td> 5</td><td>4587.500</td></tr>\n",
       "\t<tr><td>NA    </td><td>Dream    </td><td> 1</td><td>2975.000</td></tr>\n",
       "\t<tr><td>NA    </td><td>Torgersen</td><td> 5</td><td>3681.250</td></tr>\n",
       "</tbody>\n",
       "</table>\n"
      ],
      "text/latex": [
       "A grouped\\_df: 9 × 4\n",
       "\\begin{tabular}{llll}\n",
       " sex & island & n & promedio\\_peso\\\\\n",
       " <fct> & <fct> & <int> & <dbl>\\\\\n",
       "\\hline\n",
       "\t female & Biscoe    & 80 & 4319.375\\\\\n",
       "\t female & Dream     & 61 & 3446.311\\\\\n",
       "\t female & Torgersen & 24 & 3395.833\\\\\n",
       "\t male   & Biscoe    & 83 & 5104.518\\\\\n",
       "\t male   & Dream     & 62 & 3987.097\\\\\n",
       "\t male   & Torgersen & 23 & 4034.783\\\\\n",
       "\t NA     & Biscoe    &  5 & 4587.500\\\\\n",
       "\t NA     & Dream     &  1 & 2975.000\\\\\n",
       "\t NA     & Torgersen &  5 & 3681.250\\\\\n",
       "\\end{tabular}\n"
      ],
      "text/markdown": [
       "\n",
       "A grouped_df: 9 × 4\n",
       "\n",
       "| sex &lt;fct&gt; | island &lt;fct&gt; | n &lt;int&gt; | promedio_peso &lt;dbl&gt; |\n",
       "|---|---|---|---|\n",
       "| female | Biscoe    | 80 | 4319.375 |\n",
       "| female | Dream     | 61 | 3446.311 |\n",
       "| female | Torgersen | 24 | 3395.833 |\n",
       "| male   | Biscoe    | 83 | 5104.518 |\n",
       "| male   | Dream     | 62 | 3987.097 |\n",
       "| male   | Torgersen | 23 | 4034.783 |\n",
       "| NA     | Biscoe    |  5 | 4587.500 |\n",
       "| NA     | Dream     |  1 | 2975.000 |\n",
       "| NA     | Torgersen |  5 | 3681.250 |\n",
       "\n"
      ],
      "text/plain": [
       "  sex    island    n  promedio_peso\n",
       "1 female Biscoe    80 4319.375     \n",
       "2 female Dream     61 3446.311     \n",
       "3 female Torgersen 24 3395.833     \n",
       "4 male   Biscoe    83 5104.518     \n",
       "5 male   Dream     62 3987.097     \n",
       "6 male   Torgersen 23 4034.783     \n",
       "7 NA     Biscoe     5 4587.500     \n",
       "8 NA     Dream      1 2975.000     \n",
       "9 NA     Torgersen  5 3681.250     "
      ]
     },
     "metadata": {},
     "output_type": "display_data"
    }
   ],
   "source": [
    "penguins %>% \n",
    "  group_by(sex, island) %>%\n",
    "  summarise(\n",
    "    n = n(),\n",
    "    promedio_peso = mean(body_mass_g, na.rm = TRUE)\n",
    "  )"
   ]
  },
  {
   "cell_type": "markdown",
   "metadata": {},
   "source": [
    "### Para terminar, un operador extra `%in%`, y ggplot\n",
    "*  `%in%`  se traduce como \"me quiero quedar con estos atributos\"\n",
    "*  `ggplot`  es la función base de tidyverse para graficar\n",
    "\n",
    "### Misión: graficar que tan diferente es la masa de las hembras en dos islas: Biscoe y Dream"
   ]
  },
  {
   "cell_type": "code",
   "execution_count": 106,
   "metadata": {},
   "outputs": [
    {
     "data": {
      "image/png": "[encoded data removed]",
      "text/plain": [
       "plot without title"
      ]
     },
     "metadata": {
      "image/png": {
       "height": 420,
       "width": 420
      }
     },
     "output_type": "display_data"
    }
   ],
   "source": [
    "penguins %>% \n",
    "  filter(island %in% c(\"Biscoe\", \"Dream\") & sex == \"female\") %>%\n",
    "  ggplot(aes(x = species, y = flipper_length_mm)) +\n",
    "  geom_boxplot(aes(color = species), width = 0.3, show.legend = FALSE) +\n",
    "  scale_color_manual(values = c(\"darkorange\",\"purple\",\"cyan4\")) +\n",
    "  theme_minimal() +\n",
    "  labs(x = \"Especies\",\n",
    "       y = \"Peso (g)\")"
   ]
  },
  {
   "cell_type": "code",
   "execution_count": null,
   "metadata": {},
   "outputs": [],
   "source": []
  }
 ],
 "metadata": {
  "kernelspec": {
   "display_name": "R",
   "language": "R",
   "name": "ir"
  },
  "language_info": {
   "codemirror_mode": "r",
   "file_extension": ".r",
   "mimetype": "text/x-r-source",
   "name": "R",
   "pygments_lexer": "r",
   "version": "4.1.3"
  }
 },
 "nbformat": 4,
 "nbformat_minor": 5
}
